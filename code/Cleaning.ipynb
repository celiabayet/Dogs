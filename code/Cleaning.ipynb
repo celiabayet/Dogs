{
 "cells": [
  {
   "cell_type": "markdown",
   "metadata": {},
   "source": [
    "# Cleaning and EDA"
   ]
  },
  {
   "cell_type": "code",
   "execution_count": 1,
   "metadata": {},
   "outputs": [],
   "source": [
    "#Import libraries\n",
    "import pandas as pd \n",
    "import seaborn as sns\n",
    "import matplotlib.pyplot as plt\n",
    "from scipy import stats\n",
    "import numpy as np\n",
    "from pandas import *\n",
    "%matplotlib inline"
   ]
  },
  {
   "cell_type": "code",
   "execution_count": 2,
   "metadata": {},
   "outputs": [
    {
     "data": {
      "text/html": [
       "<div>\n",
       "<style scoped>\n",
       "    .dataframe tbody tr th:only-of-type {\n",
       "        vertical-align: middle;\n",
       "    }\n",
       "\n",
       "    .dataframe tbody tr th {\n",
       "        vertical-align: top;\n",
       "    }\n",
       "\n",
       "    .dataframe thead th {\n",
       "        text-align: right;\n",
       "    }\n",
       "</style>\n",
       "<table border=\"1\" class=\"dataframe\">\n",
       "  <thead>\n",
       "    <tr style=\"text-align: right;\">\n",
       "      <th></th>\n",
       "      <th>Title</th>\n",
       "      <th>Body</th>\n",
       "      <th>Tags</th>\n",
       "    </tr>\n",
       "  </thead>\n",
       "  <tbody>\n",
       "    <tr>\n",
       "      <td>0</td>\n",
       "      <td>change text in the second column in the ViewHo...</td>\n",
       "      <td>&lt;p&gt;I want to change the text color of the seco...</td>\n",
       "      <td>&lt;android&gt;&lt;android-recyclerview&gt;&lt;recycler-adapt...</td>\n",
       "    </tr>\n",
       "    <tr>\n",
       "      <td>1</td>\n",
       "      <td>How to add individual elements of list into an...</td>\n",
       "      <td>&lt;p&gt;For example i have the below list&lt;/p&gt;\\n\\n&lt;p...</td>\n",
       "      <td>&lt;python&gt;&lt;python-2.7&gt;</td>\n",
       "    </tr>\n",
       "    <tr>\n",
       "      <td>2</td>\n",
       "      <td>What's the difference between serialize and en...</td>\n",
       "      <td>&lt;p&gt;I'm using &lt;a href=\"https://api.symfony.com/...</td>\n",
       "      <td>&lt;symfony&gt;&lt;serialization&gt;</td>\n",
       "    </tr>\n",
       "    <tr>\n",
       "      <td>3</td>\n",
       "      <td>Django: Best way to create a multiple choice f...</td>\n",
       "      <td>&lt;p&gt;WHen creating a multiple choice option in D...</td>\n",
       "      <td>&lt;django&gt;&lt;django-models&gt;</td>\n",
       "    </tr>\n",
       "    <tr>\n",
       "      <td>4</td>\n",
       "      <td>re-organize json data with vanilla javascript</td>\n",
       "      <td>&lt;p&gt;I am consuming data from a web service that...</td>\n",
       "      <td>&lt;javascript&gt;</td>\n",
       "    </tr>\n",
       "  </tbody>\n",
       "</table>\n",
       "</div>"
      ],
      "text/plain": [
       "                                               Title  \\\n",
       "0  change text in the second column in the ViewHo...   \n",
       "1  How to add individual elements of list into an...   \n",
       "2  What's the difference between serialize and en...   \n",
       "3  Django: Best way to create a multiple choice f...   \n",
       "4      re-organize json data with vanilla javascript   \n",
       "\n",
       "                                                Body  \\\n",
       "0  <p>I want to change the text color of the seco...   \n",
       "1  <p>For example i have the below list</p>\\n\\n<p...   \n",
       "2  <p>I'm using <a href=\"https://api.symfony.com/...   \n",
       "3  <p>WHen creating a multiple choice option in D...   \n",
       "4  <p>I am consuming data from a web service that...   \n",
       "\n",
       "                                                Tags  \n",
       "0  <android><android-recyclerview><recycler-adapt...  \n",
       "1                               <python><python-2.7>  \n",
       "2                           <symfony><serialization>  \n",
       "3                            <django><django-models>  \n",
       "4                                       <javascript>  "
      ]
     },
     "execution_count": 2,
     "metadata": {},
     "output_type": "execute_result"
    }
   ],
   "source": [
    "#Loading data\n",
    "#df = pd.read_csv('../data/query.csv', encoding='utf-8', index_col=None, sep=',')\n",
    "df = pd.concat(map(pd.read_csv,\n",
    "                   ['../data/August.csv','../data/September.csv','../data/October.csv','../data/November.csv',\n",
    "                    '../data/December.csv','../data/January.csv','../data/February.csv','../data/March.csv',\n",
    "                    '../data/April.csv','../data/May.csv','../data/June.csv','../data/July.csv']),axis=0, ignore_index=True)\n",
    "\n",
    "df = df.drop(['CreationDate'],axis=1)\n",
    "df.head()"
   ]
  },
  {
   "cell_type": "code",
   "execution_count": 3,
   "metadata": {
    "scrolled": true
   },
   "outputs": [
    {
     "data": {
      "text/plain": [
       "\"<p>I'm sure this is in SO somewhere but I can't seem to find it. I'm trying to remove or select designated <code>columns</code> in a <code>pandas df</code>. But I want to keep certain values or <code>strings</code> from those deleted <code>columns</code>. </p>\\n\\n<p>For the <code>df</code> below I want to keep <code>'Big','Cat'</code> in <code>Col B,C</code> but delete everything else.</p>\\n\\n<pre><code>import pandas as pd\\n\\nd = ({\\n    'A' : ['A','Keep','A','Value'],           \\n    'B' : ['Big','X','Big','Y'],\\n    'C' : ['Cat','X','Cat','Y'],\\n    })\\n\\ndf = pd.DataFrame(data=d)\\n</code></pre>\\n\\n<p>If I do either the following it only selects that row.</p>\\n\\n<pre><code>Big = df[df['B'] == 'Big']\\nCat = df[df['C'] == 'Cat']\\n</code></pre>\\n\\n<p>My intended output is:</p>\\n\\n<pre><code>       A    B    C\\n0      A  Big  Cat\\n1   Keep          \\n2      A  Big  Cat\\n3  Value \\n</code></pre>\\n\\n<p>I need something like <code>x = df[df['B','C'] != 'Big','Cat']</code></p>\\n\""
      ]
     },
     "execution_count": 3,
     "metadata": {},
     "output_type": "execute_result"
    }
   ],
   "source": [
    "df.Body[6]"
   ]
  },
  {
   "cell_type": "code",
   "execution_count": 4,
   "metadata": {},
   "outputs": [
    {
     "name": "stdout",
     "output_type": "stream",
     "text": [
      "<class 'pandas.core.frame.DataFrame'>\n",
      "RangeIndex: 444057 entries, 0 to 444056\n",
      "Data columns (total 3 columns):\n",
      "Title    444057 non-null object\n",
      "Body     444057 non-null object\n",
      "Tags     444057 non-null object\n",
      "dtypes: object(3)\n",
      "memory usage: 10.2+ MB\n"
     ]
    }
   ],
   "source": [
    "df.info()"
   ]
  },
  {
   "cell_type": "code",
   "execution_count": 5,
   "metadata": {
    "scrolled": true
   },
   "outputs": [
    {
     "data": {
      "text/plain": [
       "0"
      ]
     },
     "execution_count": 5,
     "metadata": {},
     "output_type": "execute_result"
    }
   ],
   "source": [
    "#Duplicates in our dataframe\n",
    "df.duplicated().sum()"
   ]
  },
  {
   "cell_type": "code",
   "execution_count": 6,
   "metadata": {},
   "outputs": [
    {
     "data": {
      "text/plain": [
       "Text(0.5, 1.0, 'Ratio of missing values per columns')"
      ]
     },
     "execution_count": 6,
     "metadata": {},
     "output_type": "execute_result"
    },
    {
     "data": {
      "image/png": "[encoded data removed]",
      "text/plain": [
       "<Figure size 360x360 with 1 Axes>"
      ]
     },
     "metadata": {
      "needs_background": "light"
     },
     "output_type": "display_data"
    }
   ],
   "source": [
    "plt.figure(figsize=(5, 5))\n",
    "df.isnull().mean(axis=0).plot.barh()\n",
    "plt.title(\"Ratio of missing values per columns\")"
   ]
  },
  {
   "cell_type": "markdown",
   "metadata": {},
   "source": [
    "No duplicates and no missing values in our datas"
   ]
  },
  {
   "cell_type": "markdown",
   "metadata": {},
   "source": [
    "### Tags "
   ]
  },
  {
   "cell_type": "code",
   "execution_count": 17,
   "metadata": {},
   "outputs": [],
   "source": [
    "#Create a copy of our datframe\n",
    "df1 = df.copy()"
   ]
  },
  {
   "cell_type": "code",
   "execution_count": 18,
   "metadata": {},
   "outputs": [],
   "source": [
    "#Split tags\n",
    "df1['Tags'] = df1['Tags'].apply(lambda x: x.replace('<',''))\n",
    "df1['Tags'] = df1['Tags'].apply(lambda x: x.strip('>'))\n",
    "df1['Tags'] = df1['Tags'].apply(lambda x: x.split('>'))"
   ]
  },
  {
   "cell_type": "code",
   "execution_count": 19,
   "metadata": {},
   "outputs": [
    {
     "data": {
      "text/html": [
       "<div>\n",
       "<style scoped>\n",
       "    .dataframe tbody tr th:only-of-type {\n",
       "        vertical-align: middle;\n",
       "    }\n",
       "\n",
       "    .dataframe tbody tr th {\n",
       "        vertical-align: top;\n",
       "    }\n",
       "\n",
       "    .dataframe thead th {\n",
       "        text-align: right;\n",
       "    }\n",
       "</style>\n",
       "<table border=\"1\" class=\"dataframe\">\n",
       "  <thead>\n",
       "    <tr style=\"text-align: right;\">\n",
       "      <th></th>\n",
       "      <th>number of tags</th>\n",
       "      <th>frequency</th>\n",
       "    </tr>\n",
       "  </thead>\n",
       "  <tbody>\n",
       "    <tr>\n",
       "      <td>0</td>\n",
       "      <td>4</td>\n",
       "      <td>79530</td>\n",
       "    </tr>\n",
       "    <tr>\n",
       "      <td>1</td>\n",
       "      <td>2</td>\n",
       "      <td>127135</td>\n",
       "    </tr>\n",
       "    <tr>\n",
       "      <td>2</td>\n",
       "      <td>1</td>\n",
       "      <td>60137</td>\n",
       "    </tr>\n",
       "    <tr>\n",
       "      <td>3</td>\n",
       "      <td>3</td>\n",
       "      <td>125749</td>\n",
       "    </tr>\n",
       "    <tr>\n",
       "      <td>4</td>\n",
       "      <td>5</td>\n",
       "      <td>51503</td>\n",
       "    </tr>\n",
       "    <tr>\n",
       "      <td>5</td>\n",
       "      <td>6</td>\n",
       "      <td>3</td>\n",
       "    </tr>\n",
       "  </tbody>\n",
       "</table>\n",
       "</div>"
      ],
      "text/plain": [
       "   number of tags  frequency\n",
       "0               4      79530\n",
       "1               2     127135\n",
       "2               1      60137\n",
       "3               3     125749\n",
       "4               5      51503\n",
       "5               6          3"
      ]
     },
     "execution_count": 19,
     "metadata": {},
     "output_type": "execute_result"
    }
   ],
   "source": [
    "import collections\n",
    "\n",
    "number_tags = [len(x) for x in df1['Tags']]\n",
    "frequency = collections.Counter(number_tags)\n",
    "number_tags = pd.DataFrame(list(frequency.items()), columns=['number of tags', 'frequency'])\n",
    "number_tags"
   ]
  },
  {
   "cell_type": "code",
   "execution_count": 20,
   "metadata": {},
   "outputs": [
    {
     "data": {
      "image/png": "[encoded data removed]",
      "text/plain": [
       "<Figure size 720x288 with 1 Axes>"
      ]
     },
     "metadata": {
      "needs_background": "light"
     },
     "output_type": "display_data"
    }
   ],
   "source": [
    "fig, ax = plt.subplots(figsize=(10,4))\n",
    "\n",
    "sns.barplot(x=number_tags['number of tags'], y=number_tags['frequency'])\n",
    "\n",
    "plt.xticks(rotation=90)\n",
    "\n",
    "plt.ylabel('Count')\n",
    "plt.xlabel('Number of tags')\n",
    "plt.title('Number of tags per questions')\n",
    "\n",
    "plt.show()"
   ]
  },
  {
   "cell_type": "code",
   "execution_count": 58,
   "metadata": {},
   "outputs": [
    {
     "data": {
      "image/png": "[encoded data removed]",
      "text/plain": [
       "<Figure size 432x288 with 1 Axes>"
      ]
     },
     "metadata": {
      "needs_background": "light"
     },
     "output_type": "display_data"
    }
   ],
   "source": [
    "from wordcloud import WordCloud, STOPWORDS, ImageColorGenerator\n",
    "\n",
    "# Create and generate a word cloud image:\n",
    "WordCloud(stopwords=set()).generate_from_frequencies(freq_tags)\n",
    "\n",
    "# Display the generated image:\n",
    "plt.imshow(wordcloud)\n",
    "plt.axis(\"off\")\n",
    "plt.show()"
   ]
  },
  {
   "cell_type": "code",
   "execution_count": 21,
   "metadata": {},
   "outputs": [
    {
     "name": "stdout",
     "output_type": "stream",
     "text": [
      "NLTK Downloader\n",
      "---------------------------------------------------------------------------\n",
      "    d) Download   l) List    u) Update   c) Config   h) Help   q) Quit\n",
      "---------------------------------------------------------------------------\n",
      "Downloader> q\n"
     ]
    },
    {
     "data": {
      "text/plain": [
       "True"
      ]
     },
     "execution_count": 21,
     "metadata": {},
     "output_type": "execute_result"
    }
   ],
   "source": [
    "import nltk\n",
    "nltk.download()"
   ]
  },
  {
   "cell_type": "code",
   "execution_count": 22,
   "metadata": {},
   "outputs": [
    {
     "data": {
      "text/plain": [
       "array([list(['android', 'android-recyclerview', 'recycler-adapter', 'android-viewholder']),\n",
       "       list(['python', 'python-2.7']), list(['symfony', 'serialization']),\n",
       "       ..., list(['javascript', 'angular', 'angular-reactive-forms']),\n",
       "       list(['pandas']), list(['python'])], dtype=object)"
      ]
     },
     "execution_count": 22,
     "metadata": {},
     "output_type": "execute_result"
    }
   ],
   "source": [
    "df1.Tags.values"
   ]
  },
  {
   "cell_type": "code",
   "execution_count": 28,
   "metadata": {},
   "outputs": [],
   "source": [
    "from nltk.probability import ConditionalFreqDist\n",
    "import pickle\n",
    "\n",
    "all_tags = [item for sublist in df1['Tags'].values for item in sublist]\n",
    "\n",
    "freq_tags = nltk.FreqDist(all_tags)\n",
    "\n",
    "freq_top_tags = freq_tags.most_common(150)\n",
    "\n",
    "top_tags = [word[0] for word in freq_top_tags]\n",
    "pickle.dump(top_tags,open('top_tags.sav', 'wb'))"
   ]
  },
  {
   "cell_type": "code",
   "execution_count": 29,
   "metadata": {},
   "outputs": [
    {
     "data": {
      "text/plain": [
       "nltk.probability.FreqDist"
      ]
     },
     "execution_count": 29,
     "metadata": {},
     "output_type": "execute_result"
    }
   ],
   "source": [
    "type(freq_tags)"
   ]
  },
  {
   "cell_type": "code",
   "execution_count": 30,
   "metadata": {},
   "outputs": [],
   "source": [
    "keywords = pd.DataFrame(freq_top_tags)"
   ]
  },
  {
   "cell_type": "code",
   "execution_count": 31,
   "metadata": {
    "scrolled": true
   },
   "outputs": [
    {
     "data": {
      "image/png": "[encoded data removed]",
      "text/plain": [
       "<Figure size 936x360 with 1 Axes>"
      ]
     },
     "metadata": {
      "needs_background": "light"
     },
     "output_type": "display_data"
    }
   ],
   "source": [
    "plt.figure(figsize=(13,5))\n",
    "\n",
    "plt.plot(keywords.iloc[0:50,0], keywords.iloc[0:50,1])\n",
    "\n",
    "plt.ylabel('Count')\n",
    "plt.xlabel('Tag')\n",
    "plt.title('Tags frequency')\n",
    "plt.xticks(rotation=90)\n",
    "\n",
    "plt.show()"
   ]
  },
  {
   "cell_type": "code",
   "execution_count": 32,
   "metadata": {},
   "outputs": [],
   "source": [
    "def most_common(tags):\n",
    "    tags_filtered = []\n",
    "    for i in range(0, len(tags)):\n",
    "        if tags[i] in top_tags:\n",
    "            tags_filtered.append(tags[i])\n",
    "    return tags_filtered"
   ]
  },
  {
   "cell_type": "code",
   "execution_count": 33,
   "metadata": {},
   "outputs": [],
   "source": [
    "df1['Tags'] = df1['Tags'].apply(lambda x: most_common(x))"
   ]
  },
  {
   "cell_type": "code",
   "execution_count": 26,
   "metadata": {},
   "outputs": [
    {
     "data": {
      "text/html": [
       "<div>\n",
       "<style scoped>\n",
       "    .dataframe tbody tr th:only-of-type {\n",
       "        vertical-align: middle;\n",
       "    }\n",
       "\n",
       "    .dataframe tbody tr th {\n",
       "        vertical-align: top;\n",
       "    }\n",
       "\n",
       "    .dataframe thead th {\n",
       "        text-align: right;\n",
       "    }\n",
       "</style>\n",
       "<table border=\"1\" class=\"dataframe\">\n",
       "  <thead>\n",
       "    <tr style=\"text-align: right;\">\n",
       "      <th></th>\n",
       "      <th>Title</th>\n",
       "      <th>Body</th>\n",
       "      <th>Tags</th>\n",
       "    </tr>\n",
       "  </thead>\n",
       "  <tbody>\n",
       "    <tr>\n",
       "      <td>0</td>\n",
       "      <td>change text in the second column in the ViewHo...</td>\n",
       "      <td>&lt;p&gt;I want to change the text color of the seco...</td>\n",
       "      <td>[android]</td>\n",
       "    </tr>\n",
       "    <tr>\n",
       "      <td>1</td>\n",
       "      <td>How to add individual elements of list into an...</td>\n",
       "      <td>&lt;p&gt;For example i have the below list&lt;/p&gt;\\n\\n&lt;p...</td>\n",
       "      <td>[python, python-2.7]</td>\n",
       "    </tr>\n",
       "    <tr>\n",
       "      <td>2</td>\n",
       "      <td>What's the difference between serialize and en...</td>\n",
       "      <td>&lt;p&gt;I'm using &lt;a href=\"https://api.symfony.com/...</td>\n",
       "      <td>[]</td>\n",
       "    </tr>\n",
       "    <tr>\n",
       "      <td>3</td>\n",
       "      <td>Django: Best way to create a multiple choice f...</td>\n",
       "      <td>&lt;p&gt;WHen creating a multiple choice option in D...</td>\n",
       "      <td>[django]</td>\n",
       "    </tr>\n",
       "    <tr>\n",
       "      <td>4</td>\n",
       "      <td>re-organize json data with vanilla javascript</td>\n",
       "      <td>&lt;p&gt;I am consuming data from a web service that...</td>\n",
       "      <td>[javascript]</td>\n",
       "    </tr>\n",
       "  </tbody>\n",
       "</table>\n",
       "</div>"
      ],
      "text/plain": [
       "                                               Title  \\\n",
       "0  change text in the second column in the ViewHo...   \n",
       "1  How to add individual elements of list into an...   \n",
       "2  What's the difference between serialize and en...   \n",
       "3  Django: Best way to create a multiple choice f...   \n",
       "4      re-organize json data with vanilla javascript   \n",
       "\n",
       "                                                Body                  Tags  \n",
       "0  <p>I want to change the text color of the seco...             [android]  \n",
       "1  <p>For example i have the below list</p>\\n\\n<p...  [python, python-2.7]  \n",
       "2  <p>I'm using <a href=\"https://api.symfony.com/...                    []  \n",
       "3  <p>WHen creating a multiple choice option in D...              [django]  \n",
       "4  <p>I am consuming data from a web service that...          [javascript]  "
      ]
     },
     "execution_count": 26,
     "metadata": {},
     "output_type": "execute_result"
    }
   ],
   "source": [
    "df1.head()"
   ]
  },
  {
   "cell_type": "code",
   "execution_count": 13,
   "metadata": {
    "scrolled": true
   },
   "outputs": [
    {
     "data": {
      "text/html": [
       "<div>\n",
       "<style scoped>\n",
       "    .dataframe tbody tr th:only-of-type {\n",
       "        vertical-align: middle;\n",
       "    }\n",
       "\n",
       "    .dataframe tbody tr th {\n",
       "        vertical-align: top;\n",
       "    }\n",
       "\n",
       "    .dataframe thead th {\n",
       "        text-align: right;\n",
       "    }\n",
       "</style>\n",
       "<table border=\"1\" class=\"dataframe\">\n",
       "  <thead>\n",
       "    <tr style=\"text-align: right;\">\n",
       "      <th></th>\n",
       "      <th>tag</th>\n",
       "      <th>frequence</th>\n",
       "    </tr>\n",
       "  </thead>\n",
       "  <tbody>\n",
       "    <tr>\n",
       "      <td>0</td>\n",
       "      <td>javascript</td>\n",
       "      <td>61855</td>\n",
       "    </tr>\n",
       "    <tr>\n",
       "      <td>1</td>\n",
       "      <td>python</td>\n",
       "      <td>61038</td>\n",
       "    </tr>\n",
       "    <tr>\n",
       "      <td>2</td>\n",
       "      <td>java</td>\n",
       "      <td>36114</td>\n",
       "    </tr>\n",
       "    <tr>\n",
       "      <td>3</td>\n",
       "      <td>html</td>\n",
       "      <td>26626</td>\n",
       "    </tr>\n",
       "    <tr>\n",
       "      <td>4</td>\n",
       "      <td>c#</td>\n",
       "      <td>25203</td>\n",
       "    </tr>\n",
       "  </tbody>\n",
       "</table>\n",
       "</div>"
      ],
      "text/plain": [
       "          tag  frequence\n",
       "0  javascript      61855\n",
       "1      python      61038\n",
       "2        java      36114\n",
       "3        html      26626\n",
       "4          c#      25203"
      ]
     },
     "execution_count": 13,
     "metadata": {},
     "output_type": "execute_result"
    }
   ],
   "source": [
    "#Strip all '<' characters\n",
    "df['Tags'] = [x.replace('<','') for x in df.Tags]\n",
    "df['Tags'] = [x.strip('>') for x in df.Tags]\n",
    "#split all tags\n",
    "tags = df['Tags'].str.split('>', expand = True).stack()\n",
    "#Counting each occurence of a tag\n",
    "tags = tags.value_counts()\n",
    "#Get a dataframe of all tags\n",
    "tags = pd.DataFrame(tags)\n",
    "#Add an index to this dataframe\n",
    "tags.reset_index(inplace=True)\n",
    "#Rename the columns\n",
    "columns = ['tag', 'frequence']\n",
    "tags.columns = columns\n",
    "\n",
    "tags.head()"
   ]
  },
  {
   "cell_type": "code",
   "execution_count": 15,
   "metadata": {},
   "outputs": [
    {
     "data": {
      "image/png": "[encoded data removed]",
      "text/plain": [
       "<Figure size 432x288 with 1 Axes>"
      ]
     },
     "metadata": {
      "needs_background": "light"
     },
     "output_type": "display_data"
    }
   ],
   "source": [
    "#Analysis of the 150 first tags\n",
    "common_tags = tags.iloc[0:300,:]\n",
    "common_tags.plot( label = 'frequence').axhline(y=100, color='r', linestyle='-', label='y=100')\n",
    "plt.ylabel('Count')\n",
    "plt.xlabel('Tag number')\n",
    "plt.title('Tags frequency')\n",
    "plt.legend(loc='upper right')\n",
    "plt.show()"
   ]
  },
  {
   "cell_type": "code",
   "execution_count": 16,
   "metadata": {},
   "outputs": [
    {
     "data": {
      "image/png": "[encoded data removed]",
      "text/plain": [
       "<Figure size 720x288 with 1 Axes>"
      ]
     },
     "metadata": {
      "needs_background": "light"
     },
     "output_type": "display_data"
    }
   ],
   "source": [
    "#Frequence of the 20 most popular tags\n",
    "top_tags = tags.iloc[0:20,:]\n",
    "\n",
    "\n",
    "fig, ax = plt.subplots(figsize=(10,4))\n",
    "\n",
    "sns.barplot(x=top_tags.tag, y=top_tags.frequence)\n",
    "\n",
    "plt.xticks(rotation=90)\n",
    "\n",
    "plt.ylabel('Count')\n",
    "plt.xlabel('Tags')\n",
    "plt.title('Frequence of top 20 tags')\n",
    "\n",
    "plt.show()\n"
   ]
  },
  {
   "cell_type": "markdown",
   "metadata": {},
   "source": [
    "Taking only the first 100 tags are enough since they represent more than "
   ]
  },
  {
   "cell_type": "markdown",
   "metadata": {},
   "source": [
    "### Body"
   ]
  },
  {
   "cell_type": "code",
   "execution_count": 34,
   "metadata": {},
   "outputs": [],
   "source": [
    "#Create a copy of our data\n",
    "new_df = df1.copy()"
   ]
  },
  {
   "cell_type": "code",
   "execution_count": 35,
   "metadata": {},
   "outputs": [
    {
     "data": {
      "text/plain": [
       "0    <p>I want to change the text color of the seco...\n",
       "1    <p>For example i have the below list</p>\\n\\n<p...\n",
       "2    <p>I'm using <a href=\"https://api.symfony.com/...\n",
       "3    <p>WHen creating a multiple choice option in D...\n",
       "4    <p>I am consuming data from a web service that...\n",
       "5    <p>please I have three Models: lecturers, leve...\n",
       "6    <p>I'm sure this is in SO somewhere but I can'...\n",
       "7    <p>I am trying to do the enter-update-exit pat...\n",
       "8    <p>I went ahead and followed <a href=\"https://...\n",
       "9    <p>I am trying to read a JSON file from Amazon...\n",
       "Name: Body, dtype: object"
      ]
     },
     "execution_count": 35,
     "metadata": {},
     "output_type": "execute_result"
    }
   ],
   "source": [
    "#Replace all balise code to the same one in order to split\n",
    "new_df['Body'] = new_df['Body'].str.replace('</code>','<code>')\n",
    "new_df.Body.head(10)"
   ]
  },
  {
   "cell_type": "code",
   "execution_count": 36,
   "metadata": {},
   "outputs": [
    {
     "data": {
      "text/plain": [
       "0    [<p>I want to change the text color of the sec...\n",
       "1    [<p>For example i have the below list</p>\\n\\n<...\n",
       "2    [<p>I'm using <a href=\"https://api.symfony.com...\n",
       "3    [<p>WHen creating a multiple choice option in ...\n",
       "4    [<p>I am consuming data from a web service tha...\n",
       "5    [<p>please I have three Models: lecturers, lev...\n",
       "6    [<p>I'm sure this is in SO somewhere but I can...\n",
       "7    [<p>I am trying to do the enter-update-exit pa...\n",
       "8    [<p>I went ahead and followed <a href=\"https:/...\n",
       "9    [<p>I am trying to read a JSON file from Amazo...\n",
       "Name: Body, dtype: object"
      ]
     },
     "execution_count": 36,
     "metadata": {},
     "output_type": "execute_result"
    }
   ],
   "source": [
    "#Separate code from the body\n",
    "new_df['Body'] = new_df['Body'].str.split('<code>')\n",
    "new_df.Body.head(10)"
   ]
  },
  {
   "cell_type": "code",
   "execution_count": 37,
   "metadata": {},
   "outputs": [],
   "source": [
    "s = []\n",
    "for x in new_df.Body :\n",
    "    s.append([elt for idx, elt in enumerate(x) if idx % 2 != 0])\n",
    "    \n",
    "new_df['Code'] = s"
   ]
  },
  {
   "cell_type": "code",
   "execution_count": 38,
   "metadata": {},
   "outputs": [],
   "source": [
    "for i,x in enumerate(new_df['Body']) :\n",
    "    for y in new_df['Code'][i] :\n",
    "        x.remove(y)"
   ]
  },
  {
   "cell_type": "code",
   "execution_count": 39,
   "metadata": {},
   "outputs": [],
   "source": [
    "new_df['Body'] = [''.join(x) for x in new_df['Body']]\n",
    "new_df['Code'] = [''.join(x) for x in new_df['Code']]"
   ]
  },
  {
   "cell_type": "code",
   "execution_count": 40,
   "metadata": {},
   "outputs": [],
   "source": [
    "from bs4 import BeautifulSoup\n",
    "\n",
    "new_df['Body'] = new_df['Body'].apply(lambda x: BeautifulSoup(x, 'html.parser').get_text(strip=True)) "
   ]
  },
  {
   "cell_type": "code",
   "execution_count": 41,
   "metadata": {},
   "outputs": [],
   "source": [
    "new_df['Body'] = new_df['Body'].apply(lambda x: x.lower())"
   ]
  },
  {
   "cell_type": "code",
   "execution_count": 42,
   "metadata": {},
   "outputs": [],
   "source": [
    "from nltk.stem import WordNetLemmatizer\n",
    "from nltk.corpus import stopwords\n",
    "from nltk.tokenize.toktok import ToktokTokenizer\n",
    "import re \n",
    "\n",
    "token = ToktokTokenizer()\n",
    "lemma = WordNetLemmatizer()\n",
    "stop_words = set(stopwords.words(\"english\"))\n",
    "\n",
    "def clean_punct(text): \n",
    "    words = token.tokenize(text)\n",
    "    punctuation_filtered = []\n",
    "    for w in words:\n",
    "        if w in top_tags:\n",
    "            punctuation_filtered.append(w)\n",
    "        else:\n",
    "            punctuation_filtered.append(re.sub(r'[^\\w\\s]','',w))\n",
    "        \n",
    "    return ' '.join(map(str, punctuation_filtered))\n",
    "\n",
    "def clean_text(text):\n",
    "    text = text.lower()\n",
    "    text = re.sub(r\"what's\", \"what is \", text)\n",
    "    text = re.sub(r\"\\'s\", \" \", text)\n",
    "    text = re.sub(r\"\\'ve\", \" have \", text)\n",
    "    text = re.sub(r\"can't\", \"can not \", text)\n",
    "    text = re.sub(r\"n't\", \" not \", text)\n",
    "    text = re.sub(r\"i'm\", \"i am \", text)\n",
    "    text = re.sub(r\"\\'re\", \" are \", text)\n",
    "    text = re.sub(r\"\\'d\", \" would \", text)\n",
    "    text = re.sub(r\"\\'ll\", \" will \", text)\n",
    "    text = re.sub(r\"\\'scuse\", \" excuse \", text)\n",
    "    text = re.sub(r\"\\'\\n\", \" \", text)\n",
    "    text = re.sub(r\"\\'\\xa0\", \" \", text)\n",
    "    text = re.sub('\\s+', ' ', text)\n",
    "    text = text.strip(' ')\n",
    "    return text\n",
    "\n",
    "def lemitizeWords(text):\n",
    "    words = token.tokenize(text)\n",
    "    listLemma = []\n",
    "    for w in words:\n",
    "        x = lemma.lemmatize(w, pos=\"v\") #pos =v lemmatize to the verbe shape\n",
    "        listLemma.append(x)\n",
    "    return ' '.join(map(str, listLemma))\n",
    "\n",
    "def stopWordsRemove(text):\n",
    "    words=token.tokenize(text)\n",
    "    filtered = [w for w in words if not w in stop_words]  \n",
    "    return ' '.join(map(str, filtered))"
   ]
  },
  {
   "cell_type": "code",
   "execution_count": 43,
   "metadata": {},
   "outputs": [],
   "source": [
    "new_df['Body'] = new_df['Body'].apply(lambda x: re.sub('[0-9]','',x))\n",
    "new_df['Body'] = new_df['Body'].apply(lambda x: clean_text(x))\n",
    "new_df['Body'] = new_df['Body'].apply(lambda x: clean_punct(x)) \n",
    "new_df['Body'] = new_df['Body'].apply(lambda x: lemitizeWords(x)) \n",
    "new_df['Body'] = new_df['Body'].apply(lambda x: stopWordsRemove(x)) "
   ]
  },
  {
   "cell_type": "code",
   "execution_count": 44,
   "metadata": {},
   "outputs": [],
   "source": [
    "new_df['Title'] = new_df['Title'].apply(lambda x: re.sub('[0-9]','',x))\n",
    "new_df['Title'] = new_df['Title'].apply(lambda x: clean_text(x))\n",
    "new_df['Title'] = new_df['Title'].apply(lambda x: clean_punct(x)) \n",
    "new_df['Title'] = new_df['Title'].apply(lambda x: lemitizeWords(x)) \n",
    "new_df['Title'] = new_df['Title'].apply(lambda x: stopWordsRemove(x)) "
   ]
  },
  {
   "cell_type": "code",
   "execution_count": 45,
   "metadata": {},
   "outputs": [
    {
     "data": {
      "text/html": [
       "<div>\n",
       "<style scoped>\n",
       "    .dataframe tbody tr th:only-of-type {\n",
       "        vertical-align: middle;\n",
       "    }\n",
       "\n",
       "    .dataframe tbody tr th {\n",
       "        vertical-align: top;\n",
       "    }\n",
       "\n",
       "    .dataframe thead th {\n",
       "        text-align: right;\n",
       "    }\n",
       "</style>\n",
       "<table border=\"1\" class=\"dataframe\">\n",
       "  <thead>\n",
       "    <tr style=\"text-align: right;\">\n",
       "      <th></th>\n",
       "      <th>Title</th>\n",
       "      <th>Body</th>\n",
       "      <th>Tags</th>\n",
       "      <th>Code</th>\n",
       "    </tr>\n",
       "  </thead>\n",
       "  <tbody>\n",
       "    <tr>\n",
       "      <td>0</td>\n",
       "      <td>change text second column viewholder</td>\n",
       "      <td>want change text color second column less turn...</td>\n",
       "      <td>[android, android-recyclerview]</td>\n",
       "      <td>@Override\\npublic void onBindViewHolder(@NonNu...</td>\n",
       "    </tr>\n",
       "    <tr>\n",
       "      <td>1</td>\n",
       "      <td>add individual elements list another list python</td>\n",
       "      <td>example listi want add individual elements lis...</td>\n",
       "      <td>[python, python-2.7]</td>\n",
       "      <td>list1 = [] \\nlist2 = ['cat', 'tiger']\\nlist1.a...</td>\n",
       "    </tr>\n",
       "    <tr>\n",
       "      <td>2</td>\n",
       "      <td>difference serialize encode</td>\n",
       "      <td>usingsymfonycomponentserializerserializer sure...</td>\n",
       "      <td>[]</td>\n",
       "      <td>serializeencode</td>\n",
       "    </tr>\n",
       "    <tr>\n",
       "      <td>3</td>\n",
       "      <td>django best way create multiple choice field</td>\n",
       "      <td>create multiple choice option django seem two ...</td>\n",
       "      <td>[django]</td>\n",
       "      <td>TYPE_CHOICES=(\\n    ('teacher', (\"Teacher\")),\\...</td>\n",
       "    </tr>\n",
       "    <tr>\n",
       "      <td>4</td>\n",
       "      <td>reorganize json data vanilla javascript</td>\n",
       "      <td>consume data web service send json data follow...</td>\n",
       "      <td>[javascript]</td>\n",
       "      <td>function dbDateTimeToDateTme(value){\\n   /*\\n ...</td>\n",
       "    </tr>\n",
       "  </tbody>\n",
       "</table>\n",
       "</div>"
      ],
      "text/plain": [
       "                                              Title  \\\n",
       "0              change text second column viewholder   \n",
       "1  add individual elements list another list python   \n",
       "2                       difference serialize encode   \n",
       "3      django best way create multiple choice field   \n",
       "4           reorganize json data vanilla javascript   \n",
       "\n",
       "                                                Body  \\\n",
       "0  want change text color second column less turn...   \n",
       "1  example listi want add individual elements lis...   \n",
       "2  usingsymfonycomponentserializerserializer sure...   \n",
       "3  create multiple choice option django seem two ...   \n",
       "4  consume data web service send json data follow...   \n",
       "\n",
       "                              Tags  \\\n",
       "0  [android, android-recyclerview]   \n",
       "1             [python, python-2.7]   \n",
       "2                               []   \n",
       "3                         [django]   \n",
       "4                     [javascript]   \n",
       "\n",
       "                                                Code  \n",
       "0  @Override\\npublic void onBindViewHolder(@NonNu...  \n",
       "1  list1 = [] \\nlist2 = ['cat', 'tiger']\\nlist1.a...  \n",
       "2                                    serializeencode  \n",
       "3  TYPE_CHOICES=(\\n    ('teacher', (\"Teacher\")),\\...  \n",
       "4  function dbDateTimeToDateTme(value){\\n   /*\\n ...  "
      ]
     },
     "execution_count": 45,
     "metadata": {},
     "output_type": "execute_result"
    }
   ],
   "source": [
    "new_df.head()"
   ]
  },
  {
   "cell_type": "code",
   "execution_count": 46,
   "metadata": {},
   "outputs": [
    {
     "data": {
      "text/plain": [
       "'sure somewhere seem find try remove select designate want keep certain value delete want keep delete everything elseif either follow select rowmy intend output need something like'"
      ]
     },
     "execution_count": 46,
     "metadata": {},
     "output_type": "execute_result"
    }
   ],
   "source": [
    "new_df.Body[6]"
   ]
  },
  {
   "cell_type": "code",
   "execution_count": 64,
   "metadata": {},
   "outputs": [],
   "source": [
    "df_final = new_df.drop(['Code'], axis=1)\n",
    "df_final.to_csv('../data/cleaned_data.csv', sep='\\t', encoding='utf-8', index=False)"
   ]
  },
  {
   "cell_type": "code",
   "execution_count": null,
   "metadata": {},
   "outputs": [],
   "source": []
  },
  {
   "cell_type": "markdown",
   "metadata": {},
   "source": [
    "##### Test "
   ]
  },
  {
   "cell_type": "code",
   "execution_count": 480,
   "metadata": {},
   "outputs": [],
   "source": [
    "#Create a copy of our data\n",
    "new_df = df.copy()"
   ]
  },
  {
   "cell_type": "code",
   "execution_count": 486,
   "metadata": {},
   "outputs": [
    {
     "data": {
      "text/html": [
       "<div>\n",
       "<style scoped>\n",
       "    .dataframe tbody tr th:only-of-type {\n",
       "        vertical-align: middle;\n",
       "    }\n",
       "\n",
       "    .dataframe tbody tr th {\n",
       "        vertical-align: top;\n",
       "    }\n",
       "\n",
       "    .dataframe thead th {\n",
       "        text-align: right;\n",
       "    }\n",
       "</style>\n",
       "<table border=\"1\" class=\"dataframe\">\n",
       "  <thead>\n",
       "    <tr style=\"text-align: right;\">\n",
       "      <th></th>\n",
       "      <th>Id</th>\n",
       "      <th>Title</th>\n",
       "      <th>Body</th>\n",
       "      <th>Tags</th>\n",
       "      <th>Code</th>\n",
       "    </tr>\n",
       "  </thead>\n",
       "  <tbody>\n",
       "    <tr>\n",
       "      <th>0</th>\n",
       "      <td>4</td>\n",
       "      <td>Convert Decimal to Double?</td>\n",
       "      <td>&lt;p&gt;I want to use a track-bar to change a form'...</td>\n",
       "      <td>&lt;c#&gt;&lt;floating-point&gt;&lt;type-conversion&gt;&lt;double&gt;&lt;...</td>\n",
       "      <td>decimal trans = trackBar1.Value / 5000;\\nthis....</td>\n",
       "    </tr>\n",
       "    <tr>\n",
       "      <th>1</th>\n",
       "      <td>6</td>\n",
       "      <td>Percentage width child element in absolutely p...</td>\n",
       "      <td>&lt;p&gt;I have an absolutely positioned  containing...</td>\n",
       "      <td>&lt;html&gt;&lt;css&gt;&lt;internet-explorer-7&gt;</td>\n",
       "      <td>divdivpercentage-based widthdiv0 widthpixel wi...</td>\n",
       "    </tr>\n",
       "    <tr>\n",
       "      <th>2</th>\n",
       "      <td>9</td>\n",
       "      <td>How do I calculate someone's age in C#?</td>\n",
       "      <td>&lt;p&gt;Given a  representing a person's birthday, ...</td>\n",
       "      <td>&lt;c#&gt;&lt;.net&gt;&lt;datetime&gt;</td>\n",
       "      <td>DateTime</td>\n",
       "    </tr>\n",
       "    <tr>\n",
       "      <th>3</th>\n",
       "      <td>11</td>\n",
       "      <td>Calculate relative time in C#</td>\n",
       "      <td>&lt;p&gt;Given a specific  value, how do I display r...</td>\n",
       "      <td>&lt;c#&gt;&lt;datetime&gt;&lt;time&gt;&lt;datediff&gt;&lt;relative-time-s...</td>\n",
       "      <td>DateTime</td>\n",
       "    </tr>\n",
       "    <tr>\n",
       "      <th>4</th>\n",
       "      <td>13</td>\n",
       "      <td>Determine a user's timezone</td>\n",
       "      <td>&lt;p&gt;Is there a standard way for a web server to...</td>\n",
       "      <td>&lt;html&gt;&lt;browser&gt;&lt;timezone&gt;&lt;user-agent&gt;&lt;timezone...</td>\n",
       "      <td>user-agent</td>\n",
       "    </tr>\n",
       "  </tbody>\n",
       "</table>\n",
       "</div>"
      ],
      "text/plain": [
       "   Id                                              Title  \\\n",
       "0   4                         Convert Decimal to Double?   \n",
       "1   6  Percentage width child element in absolutely p...   \n",
       "2   9            How do I calculate someone's age in C#?   \n",
       "3  11                      Calculate relative time in C#   \n",
       "4  13                        Determine a user's timezone   \n",
       "\n",
       "                                                Body  \\\n",
       "0  <p>I want to use a track-bar to change a form'...   \n",
       "1  <p>I have an absolutely positioned  containing...   \n",
       "2  <p>Given a  representing a person's birthday, ...   \n",
       "3  <p>Given a specific  value, how do I display r...   \n",
       "4  <p>Is there a standard way for a web server to...   \n",
       "\n",
       "                                                Tags  \\\n",
       "0  <c#><floating-point><type-conversion><double><...   \n",
       "1                   <html><css><internet-explorer-7>   \n",
       "2                               <c#><.net><datetime>   \n",
       "3  <c#><datetime><time><datediff><relative-time-s...   \n",
       "4  <html><browser><timezone><user-agent><timezone...   \n",
       "\n",
       "                                                Code  \n",
       "0  decimal trans = trackBar1.Value / 5000;\\nthis....  \n",
       "1  divdivpercentage-based widthdiv0 widthpixel wi...  \n",
       "2                                           DateTime  \n",
       "3                                           DateTime  \n",
       "4                                         user-agent  "
      ]
     },
     "execution_count": 486,
     "metadata": {},
     "output_type": "execute_result"
    }
   ],
   "source": [
    "new_df.head()"
   ]
  },
  {
   "cell_type": "code",
   "execution_count": 487,
   "metadata": {},
   "outputs": [
    {
     "data": {
      "text/plain": [
       "'<p>How can I monitor an SQL Server database for changes to a table without using triggers or modifying the structure of the database in any way? My preferred programming environment is <a href=\"http://en.wikipedia.org/wiki/.NET_Framework\" rel=\"noreferrer\">.NET</a> and C#.</p>\\n\\n<p>I\\'d like to be able to support any <a href=\"http://en.wikipedia.org/wiki/Microsoft_SQL_Server#Genesis\" rel=\"noreferrer\">SQL Server 2000</a> SP4 or newer. My application is a bolt-on data visualization for another company\\'s product. Our customer base is in the thousands, so I don\\'t want to have to put in requirements that we modify the third-party vendor\\'s table at every installation.</p>\\n\\n<p>By <em>\"changes to a table\"</em> I mean changes to table data, not changes to table structure.</p>\\n\\n<p>Ultimately, I would like the change to trigger an event in my application, instead of having to check for changes at an interval.</p>\\n\\n<hr>\\n\\n<p>The best course of action given my requirements (no triggers or schema modification, SQL Server 2000 and 2005) seems to be to use the  function in <a href=\"http://en.wikipedia.org/wiki/Transact-SQL\" rel=\"noreferrer\">T-SQL</a>. The way I plan to implement is this:</p>\\n\\n<p>Every X seconds run the following query:</p>\\n\\n<pre></pre>\\n\\n<p>And compare that against the stored value. If the value has changed, go through the table row by row using the query:</p>\\n\\n<pre></pre>\\n\\n<p>And compare the returned checksums against stored values.</p>\\n'"
      ]
     },
     "execution_count": 487,
     "metadata": {},
     "output_type": "execute_result"
    }
   ],
   "source": [
    "new_df.Body[12]"
   ]
  },
  {
   "cell_type": "code",
   "execution_count": 488,
   "metadata": {},
   "outputs": [
    {
     "data": {
      "text/plain": [
       "'<p>How can I monitor an SQL Server database for changes to a table without using triggers or modifying the structure of the database in any way? My preferred programming environment is <a href=\"http://en.wikipedia.org/wiki/.NET_Framework\" rel=\"noreferrer\">.NET<a and C#.</p>\\n\\n<p>I\\'d like to be able to support any <a href=\"http://en.wikipedia.org/wiki/Microsoft_SQL_Server#Genesis\" rel=\"noreferrer\">SQL Server 2000<a SP4 or newer. My application is a bolt-on data visualization for another company\\'s product. Our customer base is in the thousands, so I don\\'t want to have to put in requirements that we modify the third-party vendor\\'s table at every installation.</p>\\n\\n<p>By <em>\"changes to a table\"</em> I mean changes to table data, not changes to table structure.</p>\\n\\n<p>Ultimately, I would like the change to trigger an event in my application, instead of having to check for changes at an interval.</p>\\n\\n<hr>\\n\\n<p>The best course of action given my requirements (no triggers or schema modification, SQL Server 2000 and 2005) seems to be to use the  function in <a href=\"http://en.wikipedia.org/wiki/Transact-SQL\" rel=\"noreferrer\">T-SQL<a. The way I plan to implement is this:</p>\\n\\n<p>Every X seconds run the following query:</p>\\n\\n<pre></pre>\\n\\n<p>And compare that against the stored value. If the value has changed, go through the table row by row using the query:</p>\\n\\n<pre></pre>\\n\\n<p>And compare the returned checksums against stored values.</p>\\n'"
      ]
     },
     "execution_count": 488,
     "metadata": {},
     "output_type": "execute_result"
    }
   ],
   "source": [
    "#Replace all balise code to the same one in order to split\n",
    "new_df['Body'] = new_df['Body'].str.replace('</a>','<a')\n",
    "new_df.Body[12]"
   ]
  },
  {
   "cell_type": "code",
   "execution_count": 489,
   "metadata": {},
   "outputs": [
    {
     "data": {
      "text/plain": [
       "['<p>How can I monitor an SQL Server database for changes to a table without using triggers or modifying the structure of the database in any way? My preferred programming environment is ',\n",
       " ' href=\"http://en.wikipedia.org/wiki/.NET_Framework\" rel=\"noreferrer\">.NET',\n",
       " \" and C#.</p>\\n\\n<p>I'd like to be able to support any \",\n",
       " ' href=\"http://en.wikipedia.org/wiki/Microsoft_SQL_Server#Genesis\" rel=\"noreferrer\">SQL Server 2000',\n",
       " ' SP4 or newer. My application is a bolt-on data visualization for another company\\'s product. Our customer base is in the thousands, so I don\\'t want to have to put in requirements that we modify the third-party vendor\\'s table at every installation.</p>\\n\\n<p>By <em>\"changes to a table\"</em> I mean changes to table data, not changes to table structure.</p>\\n\\n<p>Ultimately, I would like the change to trigger an event in my application, instead of having to check for changes at an interval.</p>\\n\\n<hr>\\n\\n<p>The best course of action given my requirements (no triggers or schema modification, SQL Server 2000 and 2005) seems to be to use the  function in ',\n",
       " ' href=\"http://en.wikipedia.org/wiki/Transact-SQL\" rel=\"noreferrer\">T-SQL',\n",
       " '. The way I plan to implement is this:</p>\\n\\n<p>Every X seconds run the following query:</p>\\n\\n<pre></pre>\\n\\n<p>And compare that against the stored value. If the value has changed, go through the table row by row using the query:</p>\\n\\n<pre></pre>\\n\\n<p>And compare the returned checksums against stored values.</p>\\n']"
      ]
     },
     "execution_count": 489,
     "metadata": {},
     "output_type": "execute_result"
    }
   ],
   "source": [
    "#Separate code from the body\n",
    "new_df['Body'] = new_df['Body'].str.split('<a')\n",
    "new_df.Body[12]"
   ]
  },
  {
   "cell_type": "code",
   "execution_count": 490,
   "metadata": {},
   "outputs": [],
   "source": [
    "s = []\n",
    "for x in new_df.Body :\n",
    "    s.append([elt for idx, elt in enumerate(x) if idx % 2 != 0])\n",
    "    \n",
    "new_df['Web'] = s"
   ]
  },
  {
   "cell_type": "code",
   "execution_count": 491,
   "metadata": {},
   "outputs": [],
   "source": [
    "for i,x in enumerate(new_df['Body']) :\n",
    "    for y in new_df['Web'][i] :\n",
    "        x.remove(y)"
   ]
  },
  {
   "cell_type": "code",
   "execution_count": 492,
   "metadata": {},
   "outputs": [],
   "source": [
    "new_df['Body'] = [''.join(x) for x in new_df['Body']]\n",
    "new_df['Web'] = [''.join(x) for x in new_df['Web']]"
   ]
  },
  {
   "cell_type": "code",
   "execution_count": 493,
   "metadata": {},
   "outputs": [
    {
     "data": {
      "text/html": [
       "<div>\n",
       "<style scoped>\n",
       "    .dataframe tbody tr th:only-of-type {\n",
       "        vertical-align: middle;\n",
       "    }\n",
       "\n",
       "    .dataframe tbody tr th {\n",
       "        vertical-align: top;\n",
       "    }\n",
       "\n",
       "    .dataframe thead th {\n",
       "        text-align: right;\n",
       "    }\n",
       "</style>\n",
       "<table border=\"1\" class=\"dataframe\">\n",
       "  <thead>\n",
       "    <tr style=\"text-align: right;\">\n",
       "      <th></th>\n",
       "      <th>Id</th>\n",
       "      <th>Title</th>\n",
       "      <th>Body</th>\n",
       "      <th>Tags</th>\n",
       "      <th>Code</th>\n",
       "      <th>Web</th>\n",
       "    </tr>\n",
       "  </thead>\n",
       "  <tbody>\n",
       "    <tr>\n",
       "      <th>0</th>\n",
       "      <td>4</td>\n",
       "      <td>Convert Decimal to Double?</td>\n",
       "      <td>&lt;p&gt;I want to use a track-bar to change a form'...</td>\n",
       "      <td>&lt;c#&gt;&lt;floating-point&gt;&lt;type-conversion&gt;&lt;double&gt;&lt;...</td>\n",
       "      <td>decimal trans = trackBar1.Value / 5000;\\nthis....</td>\n",
       "      <td></td>\n",
       "    </tr>\n",
       "    <tr>\n",
       "      <th>1</th>\n",
       "      <td>6</td>\n",
       "      <td>Percentage width child element in absolutely p...</td>\n",
       "      <td>&lt;p&gt;I have an absolutely positioned  containing...</td>\n",
       "      <td>&lt;html&gt;&lt;css&gt;&lt;internet-explorer-7&gt;</td>\n",
       "      <td>divdivpercentage-based widthdiv0 widthpixel wi...</td>\n",
       "      <td></td>\n",
       "    </tr>\n",
       "    <tr>\n",
       "      <th>2</th>\n",
       "      <td>9</td>\n",
       "      <td>How do I calculate someone's age in C#?</td>\n",
       "      <td>&lt;p&gt;Given a  representing a person's birthday, ...</td>\n",
       "      <td>&lt;c#&gt;&lt;.net&gt;&lt;datetime&gt;</td>\n",
       "      <td>DateTime</td>\n",
       "      <td></td>\n",
       "    </tr>\n",
       "    <tr>\n",
       "      <th>3</th>\n",
       "      <td>11</td>\n",
       "      <td>Calculate relative time in C#</td>\n",
       "      <td>&lt;p&gt;Given a specific  value, how do I display r...</td>\n",
       "      <td>&lt;c#&gt;&lt;datetime&gt;&lt;time&gt;&lt;datediff&gt;&lt;relative-time-s...</td>\n",
       "      <td>DateTime</td>\n",
       "      <td></td>\n",
       "    </tr>\n",
       "    <tr>\n",
       "      <th>4</th>\n",
       "      <td>13</td>\n",
       "      <td>Determine a user's timezone</td>\n",
       "      <td>&lt;p&gt;Is there a standard way for a web server to...</td>\n",
       "      <td>&lt;html&gt;&lt;browser&gt;&lt;timezone&gt;&lt;user-agent&gt;&lt;timezone...</td>\n",
       "      <td>user-agent</td>\n",
       "      <td></td>\n",
       "    </tr>\n",
       "  </tbody>\n",
       "</table>\n",
       "</div>"
      ],
      "text/plain": [
       "   Id                                              Title  \\\n",
       "0   4                         Convert Decimal to Double?   \n",
       "1   6  Percentage width child element in absolutely p...   \n",
       "2   9            How do I calculate someone's age in C#?   \n",
       "3  11                      Calculate relative time in C#   \n",
       "4  13                        Determine a user's timezone   \n",
       "\n",
       "                                                Body  \\\n",
       "0  <p>I want to use a track-bar to change a form'...   \n",
       "1  <p>I have an absolutely positioned  containing...   \n",
       "2  <p>Given a  representing a person's birthday, ...   \n",
       "3  <p>Given a specific  value, how do I display r...   \n",
       "4  <p>Is there a standard way for a web server to...   \n",
       "\n",
       "                                                Tags  \\\n",
       "0  <c#><floating-point><type-conversion><double><...   \n",
       "1                   <html><css><internet-explorer-7>   \n",
       "2                               <c#><.net><datetime>   \n",
       "3  <c#><datetime><time><datediff><relative-time-s...   \n",
       "4  <html><browser><timezone><user-agent><timezone...   \n",
       "\n",
       "                                                Code Web  \n",
       "0  decimal trans = trackBar1.Value / 5000;\\nthis....      \n",
       "1  divdivpercentage-based widthdiv0 widthpixel wi...      \n",
       "2                                           DateTime      \n",
       "3                                           DateTime      \n",
       "4                                         user-agent      "
      ]
     },
     "execution_count": 493,
     "metadata": {},
     "output_type": "execute_result"
    }
   ],
   "source": [
    "new_df.head()"
   ]
  },
  {
   "cell_type": "code",
   "execution_count": 498,
   "metadata": {},
   "outputs": [
    {
     "data": {
      "text/plain": [
       "'<p>How can I monitor an SQL Server database for changes to a table without using triggers or modifying the structure of the database in any way? My preferred programming environment is  and C#.</p>\\n\\n<p>I\\'d like to be able to support any  SP4 or newer. My application is a bolt-on data visualization for another company\\'s product. Our customer base is in the thousands, so I don\\'t want to have to put in requirements that we modify the third-party vendor\\'s table at every installation.</p>\\n\\n<p>By <em>\"changes to a table\"</em> I mean changes to table data, not changes to table structure.</p>\\n\\n<p>Ultimately, I would like the change to trigger an event in my application, instead of having to check for changes at an interval.</p>\\n\\n<hr>\\n\\n<p>The best course of action given my requirements (no triggers or schema modification, SQL Server 2000 and 2005) seems to be to use the  function in . The way I plan to implement is this:</p>\\n\\n<p>Every X seconds run the following query:</p>\\n\\n<pre></pre>\\n\\n<p>And compare that against the stored value. If the value has changed, go through the table row by row using the query:</p>\\n\\n<pre></pre>\\n\\n<p>And compare the returned checksums against stored values.</p>\\n'"
      ]
     },
     "execution_count": 498,
     "metadata": {},
     "output_type": "execute_result"
    }
   ],
   "source": [
    "new_df.Body[12]"
   ]
  },
  {
   "cell_type": "code",
   "execution_count": 509,
   "metadata": {},
   "outputs": [],
   "source": [
    "def replaceMultiple(OldString, toBeReplace, newString):\n",
    "    # Iterate over the strings to be replaced\n",
    "    for elem in toBeReplace :\n",
    "        # Check if string is in the main string\n",
    "        if elem in OldString :\n",
    "            # Replace the string\n",
    "            OldString = OldString.replace(elem, newString)\n",
    "    \n",
    "    return  OldString"
   ]
  },
  {
   "cell_type": "code",
   "execution_count": 528,
   "metadata": {},
   "outputs": [],
   "source": [
    "new_df['Body'] = [replaceMultiple(x, ['\\n','<p>','</p>','<em>','</em>','<pre>','</pre>','<li>','</li>',\n",
    "                                      '\\'','<ol>','</ol>','<ul>','</ul>','<br>','</br>'],'') \n",
    "                  for x in new_df.Body]"
   ]
  },
  {
   "cell_type": "code",
   "execution_count": 536,
   "metadata": {},
   "outputs": [
    {
     "data": {
      "text/plain": [
       "'I have a Ruby on Rails Website that makes HTTP calls to an external Web Service.About once a day I get a SystemExit (stacktrace below) error email where a call to the service has failed.  If I then try the exact same query on my site moments later it works fine.Its been happening since the site went live and Ive had no luck tracking down what causes it.Ruby is version 1.8.6 and rails is version 1.2.6.Anyone else have this problem?This is the error and stacktrace.<blockquote>  A SystemExit occurred  /usr/local/lib/ruby/gems/1.8/gems/rails-1.2.6/lib/fcgi_handler.rb:116:in  exit /usr/local/lib/ruby/gems/1.8/gems/rails-1.2.6/lib/fcgi_handler.rb:116:in  exit_now_handler /usr/local/lib/ruby/gems/1.8/gems/activesupport-1.4.4/lib/active_support/inflector.rb:250:in  to_proc/usr/local/lib/ruby/1.8et/protocol.rb:133:in call /usr/local/lib/ruby/1.8et/protocol.rb:133:in sysread /usr/local/lib/ruby/1.8et/protocol.rb:133:in rbuf_fill /usr/local/lib/ruby/1.8/timeout.rb:56:in timeout /usr/local/lib/ruby/1.8/timeout.rb:76:in timeout /usr/local/lib/ruby/1.8et/protocol.rb:132:in rbuf_fill /usr/local/lib/ruby/1.8et/protocol.rb:116:in readuntil /usr/local/lib/ruby/1.8et/protocol.rb:126:in readline /usr/local/lib/ruby/1.8et/http.rb:2017:in read_status_line /usr/local/lib/ruby/1.8et/http.rb:2006:in read_new /usr/local/lib/ruby/1.8et/http.rb:1047:in request /usr/local/lib/ruby/1.8et/http.rb:945:in request_get /usr/local/lib/ruby/1.8et/http.rb:380:in get_response /usr/local/lib/ruby/1.8et/http.rb:543:in start /usr/local/lib/ruby/1.8et/http.rb:379:in get_response</blockquote>'"
      ]
     },
     "execution_count": 536,
     "metadata": {},
     "output_type": "execute_result"
    }
   ],
   "source": [
    "new_df.Body[70]"
   ]
  }
 ],
 "metadata": {
  "kernelspec": {
   "display_name": "Python 3",
   "language": "python",
   "name": "python3"
  },
  "language_info": {
   "codemirror_mode": {
    "name": "ipython",
    "version": 3
   },
   "file_extension": ".py",
   "mimetype": "text/x-python",
   "name": "python",
   "nbconvert_exporter": "python",
   "pygments_lexer": "ipython3",
   "version": "3.6.9"
  }
 },
 "nbformat": 4,
 "nbformat_minor": 2
}
