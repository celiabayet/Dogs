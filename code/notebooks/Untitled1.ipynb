{
 "cells": [
  {
   "cell_type": "code",
   "execution_count": 5,
   "metadata": {},
   "outputs": [],
   "source": [
    "import numpy as np\n",
    "from numpy import random\n",
    "import cv2\n",
    "import os\n",
    "from sklearn.cluster import KMeans\n",
    "from sklearn.neighbors import KNeighborsClassifier\n",
    "from sklearn.svm import SVC\n",
    "from sklearn.ensemble import AdaBoostClassifier\n",
    "import pandas as pd\n",
    "from sklearn.cluster import MiniBatchKMeans"
   ]
  },
  {
   "cell_type": "code",
   "execution_count": 2,
   "metadata": {},
   "outputs": [],
   "source": [
    "# declaring variables\n",
    "TRAINING_DATA_IMG_PATH = \"../data/train/\"\n",
    "TEST_DATA_IMG_PATH = \"../data/test/\"\n",
    "#TEST_DATA_LABEL_PATH = \"data/test/labels_6_breed.csv\""
   ]
  },
  {
   "cell_type": "code",
   "execution_count": 25,
   "metadata": {},
   "outputs": [],
   "source": [
    "def load_data_set(feat_detect):\n",
    "    \"\"\"\n",
    "    creating training and test set containing lists of feature extracted from individual image\n",
    "    :param feat_detect: feature detector to use\n",
    "    :return: training and test data set containing list of features\n",
    "    \"\"\"\n",
    "    test_data_label = np.load('../data/datasets/y_test.npy')\n",
    "    training_data = []\n",
    "    test_data = []\n",
    "\n",
    "    print(\"Loading Training Data .....\")\n",
    "    folder_list = os.listdir(TRAINING_DATA_IMG_PATH)\n",
    "    for folder in folder_list:\n",
    "        file_list = os.listdir(TRAINING_DATA_IMG_PATH + folder + \"/\")\n",
    "        for image_name in file_list:\n",
    "            img = cv2.imread(TRAINING_DATA_IMG_PATH + folder + \"/\" + image_name)\n",
    "            (kp, desc) = get_features(img, feat_detect)\n",
    "            training_data.append((desc, folder))\n",
    "\n",
    "    print(\"Loading Test Data .....\")\n",
    "    folder_list = os.listdir(TEST_DATA_IMG_PATH)\n",
    "    for folder in folder_list:\n",
    "        file_list = os.listdir(TEST_DATA_IMG_PATH + folder + \"/\")\n",
    "        for image_name in file_list:\n",
    "            img = cv2.imread(TEST_DATA_IMG_PATH + folder + \"/\" + image_name)\n",
    "            (kp, desc) = get_features(img, feat_detect)\n",
    "            test_data.append((desc, folder))\n",
    "\n",
    "    random.shuffle(training_data)\n",
    "    return np.array(training_data), np.array(test_data)"
   ]
  },
  {
   "cell_type": "code",
   "execution_count": 4,
   "metadata": {},
   "outputs": [],
   "source": [
    "def get_features(image, feature_detector):\n",
    "    \"\"\"\n",
    "    extract features from image given a feature detector\n",
    "    :param image: given image\n",
    "    :param feature_detector: feature detector to use\n",
    "    :return: list of key points and features\n",
    "    \"\"\"\n",
    "    gs_image = cv2.cvtColor(image, cv2.COLOR_BGR2GRAY)\n",
    "    gs_image = cv2.resize(gs_image, (256, 256))\n",
    "    kp, descriptors = feature_detector.detectAndCompute(gs_image, mask=None)\n",
    "    if descriptors is None:\n",
    "        return kp, None\n",
    "    return kp, np.array(descriptors)"
   ]
  },
  {
   "cell_type": "code",
   "execution_count": 28,
   "metadata": {},
   "outputs": [],
   "source": [
    "def initializing_classifier(clust_cnt):\n",
    "    \"\"\"\n",
    "    initializing k-means and other classifiers\n",
    "    :param clust_cnt: # of cluster\n",
    "    :return: all classifiers\n",
    "    \"\"\"\n",
    "    #knn_classifier = KNeighborsClassifier(n_neighbors=6, weights='uniform', algorithm='brute')\n",
    "    svm_classifier = SVC(probability=True, kernel='linear', C=3.67, gamma=5.383)\n",
    "    #ada_classifier = AdaBoostClassifier(SVC(probability=True, kernel='linear', C=3.67, gamma=5.383), n_estimators=100,\n",
    "                                        #learning_rate=1.0, algorithm='SAMME')\n",
    "    kmeans_classifier = MiniBatchKMeans(clust_cnt,batch_size=200, verbose=0, init_size=3*200)\n",
    "    feature_detector = cv2.xfeatures2d.SIFT_create()\n",
    "    return  svm_classifier, kmeans_classifier, feature_detector"
   ]
  },
  {
   "cell_type": "code",
   "execution_count": 9,
   "metadata": {},
   "outputs": [],
   "source": [
    "def k_mean_clustering(descriptor_list, k_means):\n",
    "    \"\"\"\n",
    "    clustering feature of training set\n",
    "    :param descriptor_list: list of feature\n",
    "    :param k_means: K Means Classifier\n",
    "    :return:\n",
    "    \"\"\"\n",
    "    descriptors = descriptor_list[0][0]\n",
    "    for descriptor, label in descriptor_list[1:]:\n",
    "        descriptors = np.vstack((descriptors, descriptor))\n",
    "\n",
    "    k_means.fit(descriptors)\n",
    "    return k_means"
   ]
  },
  {
   "cell_type": "code",
   "execution_count": 10,
   "metadata": {},
   "outputs": [],
   "source": [
    "def train_classifier(knn_classifier, svm_classifier, ada_classifier, train_data, train_label):\n",
    "    \"\"\"\n",
    "    training all the classifiers\n",
    "    :param knn_classifier: KNN Classifier\n",
    "    :param svm_classifier: SVM Classifier\n",
    "    :param ada_classifier: AdaBoost Classifier\n",
    "    :param train_data: Training Set Feature\n",
    "    :param train_label: Training Set Target Variable\n",
    "    :return: trained classifiers\n",
    "    \"\"\"\n",
    "   # print('Training SVM with AdaBoost Classifier')\n",
    "    #ada_classifier.fit(train_data, train_label)\n",
    "    #print('Training KNN Classifier')\n",
    "    #knn_classifier.fit(train_data, train_label)\n",
    "    print('Training SVM Classifier')\n",
    "    svm_classifier.fit(train_data, train_label)\n",
    "    return svm_classifier"
   ]
  },
  {
   "cell_type": "code",
   "execution_count": 11,
   "metadata": {},
   "outputs": [],
   "source": [
    "def bag_of_features(descriptor_list, k_mean_cluster, k_clusters):\n",
    "    \"\"\"\n",
    "    creating bag of features for the training data using the k mean classifier result\n",
    "    :param descriptor_list: training set containing descriptor for the training images\n",
    "    :param k_mean_cluster: trained K Means cluster classifier\n",
    "    :param k_clusters: no of cluster\n",
    "    :return:\n",
    "    \"\"\"\n",
    "    no_of_data = np.shape(descriptor_list)[0]\n",
    "\n",
    "    x_lab = np.zeros((no_of_data, k_clusters))\n",
    "    y_lab = descriptor_list[:, -1]\n",
    "    t = 0\n",
    "    for i in range(no_of_data):\n",
    "        d = descriptor_list[i][0]\n",
    "        for j in range(np.shape(d)[0]):\n",
    "            cluster_index = k_mean_cluster[t]\n",
    "            x_lab[i][cluster_index] = x_lab[i][cluster_index] + 1\n",
    "            t = t + 1\n",
    "\n",
    "    return x_lab, y_lab"
   ]
  },
  {
   "cell_type": "code",
   "execution_count": 14,
   "metadata": {},
   "outputs": [],
   "source": [
    "def predict_accuracy(knn_classifier, svm_classifier, ada_classifier, k_means, test_set, k_cluster_no):\n",
    "    \"\"\"\n",
    "    Print the accuracy of different given classifiers with the test data\n",
    "    :param knn_classifier: trained KNN Classifier\n",
    "    :param svm_classifier: trained SVM Classifier\n",
    "    :param ada_classifier: trained AdaBoost Classifier\n",
    "    :param k_means: trained K Means Classifier\n",
    "    :param test_set: test set\n",
    "    :param k_cluster_no: # of cluster\n",
    "    \"\"\"\n",
    "    test_feature = np.zeros((np.shape(test_set)[0], k_cluster_no))\n",
    "    test_label = test_set[:, -1]\n",
    "    for i in range(np.shape(test_set)[0]):\n",
    "        desc, label = test_set[i][0], test_set[i][1]\n",
    "        r = k_means.predict(desc)\n",
    "        r_unique = np.unique(r, return_counts=True)\n",
    "        for j in range(np.shape(r_unique)[1]):\n",
    "            test_feature[i][r_unique[0][j]] = r_unique[1][j]\n",
    "\n",
    "\n",
    "    svm_result2 = svm_classifier.predict(test_feature)\n",
    "\n",
    "    knn_acc = svm_acc = ada_acc = 0\n",
    "    for l in range(np.shape(test_feature)[0]):\n",
    "        if test_label[l] == svm_result2[l]:\n",
    "            svm_acc = svm_acc + 1\n",
    "       \n",
    "\n",
    "    svm_acc = (svm_acc / np.shape(test_feature)[0]) * 100\n",
    "    \n",
    "    print( '%;SVM: ', svm_acc)"
   ]
  },
  {
   "cell_type": "code",
   "execution_count": 29,
   "metadata": {},
   "outputs": [
    {
     "name": "stdout",
     "output_type": "stream",
     "text": [
      "Initializing Classifiers .....\n"
     ]
    }
   ],
   "source": [
    "k_cluster = 500\n",
    "print(\"Initializing Classifiers .....\")\n",
    "svm_clr, k_means, fd = initializing_classifier(k_cluster)"
   ]
  },
  {
   "cell_type": "code",
   "execution_count": 26,
   "metadata": {},
   "outputs": [
    {
     "name": "stdout",
     "output_type": "stream",
     "text": [
      "Loading Training Data .....\n",
      "Loading Test Data .....\n"
     ]
    }
   ],
   "source": [
    "training_set, test_set = load_data_set(fd)"
   ]
  },
  {
   "cell_type": "code",
   "execution_count": null,
   "metadata": {},
   "outputs": [
    {
     "name": "stdout",
     "output_type": "stream",
     "text": [
      "Clustering features into 500 clusters .....\n"
     ]
    }
   ],
   "source": [
    "print('Clustering features into', k_cluster, 'clusters .....')\n",
    "k_mean_clr = k_mean_clustering(training_set, k_means)"
   ]
  },
  {
   "cell_type": "code",
   "execution_count": null,
   "metadata": {},
   "outputs": [],
   "source": [
    "print('Creating Bag of Features .....')\n",
    "x_label, y_label = bag_of_features(training_set, k_mean_clr.labels_, k_cluster)"
   ]
  },
  {
   "cell_type": "code",
   "execution_count": null,
   "metadata": {},
   "outputs": [],
   "source": [
    "svm_clf = train_classifier(knn_clr, svm_clr, ada_clr, x_label, y_label)"
   ]
  },
  {
   "cell_type": "code",
   "execution_count": null,
   "metadata": {},
   "outputs": [],
   "source": [
    "predict_accuracy(clf, svm_clf, ada_clf, k_mean_clr, test_set, k_cluster)"
   ]
  }
 ],
 "metadata": {
  "kernelspec": {
   "display_name": "Python 3",
   "language": "python",
   "name": "python3"
  },
  "language_info": {
   "codemirror_mode": {
    "name": "ipython",
    "version": 3
   },
   "file_extension": ".py",
   "mimetype": "text/x-python",
   "name": "python",
   "nbconvert_exporter": "python",
   "pygments_lexer": "ipython3",
   "version": "3.5.2"
  }
 },
 "nbformat": 4,
 "nbformat_minor": 4
}
