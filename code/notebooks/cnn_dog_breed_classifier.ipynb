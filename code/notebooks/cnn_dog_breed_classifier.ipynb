{
 "cells": [
  {
   "cell_type": "markdown",
   "metadata": {},
   "source": [
    "# Dog breed classification with cnn"
   ]
  },
  {
   "cell_type": "markdown",
   "metadata": {},
   "source": [
    "### Preprocessing datas"
   ]
  },
  {
   "cell_type": "code",
   "execution_count": 4,
   "metadata": {
    "scrolled": true
   },
   "outputs": [],
   "source": [
    "# import all libraries\n",
    "\n",
    "from sklearn.datasets import load_files       \n",
    "from keras.utils import np_utils\n",
    "import numpy as np\n",
    "from glob import glob\n",
    "import pandas as pd\n",
    "import matplotlib.pyplot as plt"
   ]
  },
  {
   "cell_type": "code",
   "execution_count": 14,
   "metadata": {},
   "outputs": [
    {
     "ename": "KeyboardInterrupt",
     "evalue": "",
     "output_type": "error",
     "traceback": [
      "\u001b[0;31m---------------------------------------------------------------------------\u001b[0m",
      "\u001b[0;31mKeyboardInterrupt\u001b[0m                         Traceback (most recent call last)",
      "\u001b[0;32m<ipython-input-14-0f06ded7b62e>\u001b[0m in \u001b[0;36m<module>\u001b[0;34m\u001b[0m\n\u001b[0;32m----> 1\u001b[0;31m \u001b[0mget_ipython\u001b[0m\u001b[0;34m(\u001b[0m\u001b[0;34m)\u001b[0m\u001b[0;34m.\u001b[0m\u001b[0mrun_line_magic\u001b[0m\u001b[0;34m(\u001b[0m\u001b[0;34m'timeit'\u001b[0m\u001b[0;34m,\u001b[0m \u001b[0;34m'2+2'\u001b[0m\u001b[0;34m)\u001b[0m\u001b[0;34m\u001b[0m\u001b[0m\n\u001b[0m",
      "\u001b[0;32m~/.virtualenvs/py3cv4/lib/python3.5/site-packages/IPython/core/interactiveshell.py\u001b[0m in \u001b[0;36mrun_line_magic\u001b[0;34m(self, magic_name, line, _stack_depth)\u001b[0m\n\u001b[1;32m   2312\u001b[0m                 \u001b[0mkwargs\u001b[0m\u001b[0;34m[\u001b[0m\u001b[0;34m'local_ns'\u001b[0m\u001b[0;34m]\u001b[0m \u001b[0;34m=\u001b[0m \u001b[0msys\u001b[0m\u001b[0;34m.\u001b[0m\u001b[0m_getframe\u001b[0m\u001b[0;34m(\u001b[0m\u001b[0mstack_depth\u001b[0m\u001b[0;34m)\u001b[0m\u001b[0;34m.\u001b[0m\u001b[0mf_locals\u001b[0m\u001b[0;34m\u001b[0m\u001b[0m\n\u001b[1;32m   2313\u001b[0m             \u001b[0;32mwith\u001b[0m \u001b[0mself\u001b[0m\u001b[0;34m.\u001b[0m\u001b[0mbuiltin_trap\u001b[0m\u001b[0;34m:\u001b[0m\u001b[0;34m\u001b[0m\u001b[0m\n\u001b[0;32m-> 2314\u001b[0;31m                 \u001b[0mresult\u001b[0m \u001b[0;34m=\u001b[0m \u001b[0mfn\u001b[0m\u001b[0;34m(\u001b[0m\u001b[0;34m*\u001b[0m\u001b[0margs\u001b[0m\u001b[0;34m,\u001b[0m \u001b[0;34m**\u001b[0m\u001b[0mkwargs\u001b[0m\u001b[0;34m)\u001b[0m\u001b[0;34m\u001b[0m\u001b[0m\n\u001b[0m\u001b[1;32m   2315\u001b[0m             \u001b[0;32mreturn\u001b[0m \u001b[0mresult\u001b[0m\u001b[0;34m\u001b[0m\u001b[0m\n\u001b[1;32m   2316\u001b[0m \u001b[0;34m\u001b[0m\u001b[0m\n",
      "\u001b[0;32m<decorator-gen-60>\u001b[0m in \u001b[0;36mtimeit\u001b[0;34m(self, line, cell, local_ns)\u001b[0m\n",
      "\u001b[0;32m~/.virtualenvs/py3cv4/lib/python3.5/site-packages/IPython/core/magic.py\u001b[0m in \u001b[0;36m<lambda>\u001b[0;34m(f, *a, **k)\u001b[0m\n\u001b[1;32m    185\u001b[0m     \u001b[0;31m# but it's overkill for just that one bit of state.\u001b[0m\u001b[0;34m\u001b[0m\u001b[0;34m\u001b[0m\u001b[0m\n\u001b[1;32m    186\u001b[0m     \u001b[0;32mdef\u001b[0m \u001b[0mmagic_deco\u001b[0m\u001b[0;34m(\u001b[0m\u001b[0marg\u001b[0m\u001b[0;34m)\u001b[0m\u001b[0;34m:\u001b[0m\u001b[0;34m\u001b[0m\u001b[0m\n\u001b[0;32m--> 187\u001b[0;31m         \u001b[0mcall\u001b[0m \u001b[0;34m=\u001b[0m \u001b[0;32mlambda\u001b[0m \u001b[0mf\u001b[0m\u001b[0;34m,\u001b[0m \u001b[0;34m*\u001b[0m\u001b[0ma\u001b[0m\u001b[0;34m,\u001b[0m \u001b[0;34m**\u001b[0m\u001b[0mk\u001b[0m\u001b[0;34m:\u001b[0m \u001b[0mf\u001b[0m\u001b[0;34m(\u001b[0m\u001b[0;34m*\u001b[0m\u001b[0ma\u001b[0m\u001b[0;34m,\u001b[0m \u001b[0;34m**\u001b[0m\u001b[0mk\u001b[0m\u001b[0;34m)\u001b[0m\u001b[0;34m\u001b[0m\u001b[0m\n\u001b[0m\u001b[1;32m    188\u001b[0m \u001b[0;34m\u001b[0m\u001b[0m\n\u001b[1;32m    189\u001b[0m         \u001b[0;32mif\u001b[0m \u001b[0mcallable\u001b[0m\u001b[0;34m(\u001b[0m\u001b[0marg\u001b[0m\u001b[0;34m)\u001b[0m\u001b[0;34m:\u001b[0m\u001b[0;34m\u001b[0m\u001b[0m\n",
      "\u001b[0;32m~/.virtualenvs/py3cv4/lib/python3.5/site-packages/IPython/core/magics/execution.py\u001b[0m in \u001b[0;36mtimeit\u001b[0;34m(self, line, cell, local_ns)\u001b[0m\n\u001b[1;32m   1160\u001b[0m                     \u001b[0;32mbreak\u001b[0m\u001b[0;34m\u001b[0m\u001b[0m\n\u001b[1;32m   1161\u001b[0m \u001b[0;34m\u001b[0m\u001b[0m\n\u001b[0;32m-> 1162\u001b[0;31m         \u001b[0mall_runs\u001b[0m \u001b[0;34m=\u001b[0m \u001b[0mtimer\u001b[0m\u001b[0;34m.\u001b[0m\u001b[0mrepeat\u001b[0m\u001b[0;34m(\u001b[0m\u001b[0mrepeat\u001b[0m\u001b[0;34m,\u001b[0m \u001b[0mnumber\u001b[0m\u001b[0;34m)\u001b[0m\u001b[0;34m\u001b[0m\u001b[0m\n\u001b[0m\u001b[1;32m   1163\u001b[0m         \u001b[0mbest\u001b[0m \u001b[0;34m=\u001b[0m \u001b[0mmin\u001b[0m\u001b[0;34m(\u001b[0m\u001b[0mall_runs\u001b[0m\u001b[0;34m)\u001b[0m \u001b[0;34m/\u001b[0m \u001b[0mnumber\u001b[0m\u001b[0;34m\u001b[0m\u001b[0m\n\u001b[1;32m   1164\u001b[0m         \u001b[0mworst\u001b[0m \u001b[0;34m=\u001b[0m \u001b[0mmax\u001b[0m\u001b[0;34m(\u001b[0m\u001b[0mall_runs\u001b[0m\u001b[0;34m)\u001b[0m \u001b[0;34m/\u001b[0m \u001b[0mnumber\u001b[0m\u001b[0;34m\u001b[0m\u001b[0m\n",
      "\u001b[0;32m/usr/lib/python3.5/timeit.py\u001b[0m in \u001b[0;36mrepeat\u001b[0;34m(self, repeat, number)\u001b[0m\n\u001b[1;32m    204\u001b[0m         \u001b[0mr\u001b[0m \u001b[0;34m=\u001b[0m \u001b[0;34m[\u001b[0m\u001b[0;34m]\u001b[0m\u001b[0;34m\u001b[0m\u001b[0m\n\u001b[1;32m    205\u001b[0m         \u001b[0;32mfor\u001b[0m \u001b[0mi\u001b[0m \u001b[0;32min\u001b[0m \u001b[0mrange\u001b[0m\u001b[0;34m(\u001b[0m\u001b[0mrepeat\u001b[0m\u001b[0;34m)\u001b[0m\u001b[0;34m:\u001b[0m\u001b[0;34m\u001b[0m\u001b[0m\n\u001b[0;32m--> 206\u001b[0;31m             \u001b[0mt\u001b[0m \u001b[0;34m=\u001b[0m \u001b[0mself\u001b[0m\u001b[0;34m.\u001b[0m\u001b[0mtimeit\u001b[0m\u001b[0;34m(\u001b[0m\u001b[0mnumber\u001b[0m\u001b[0;34m)\u001b[0m\u001b[0;34m\u001b[0m\u001b[0m\n\u001b[0m\u001b[1;32m    207\u001b[0m             \u001b[0mr\u001b[0m\u001b[0;34m.\u001b[0m\u001b[0mappend\u001b[0m\u001b[0;34m(\u001b[0m\u001b[0mt\u001b[0m\u001b[0;34m)\u001b[0m\u001b[0;34m\u001b[0m\u001b[0m\n\u001b[1;32m    208\u001b[0m         \u001b[0;32mreturn\u001b[0m \u001b[0mr\u001b[0m\u001b[0;34m\u001b[0m\u001b[0m\n",
      "\u001b[0;32m~/.virtualenvs/py3cv4/lib/python3.5/site-packages/IPython/core/magics/execution.py\u001b[0m in \u001b[0;36mtimeit\u001b[0;34m(self, number)\u001b[0m\n\u001b[1;32m    167\u001b[0m         \u001b[0mgc\u001b[0m\u001b[0;34m.\u001b[0m\u001b[0mdisable\u001b[0m\u001b[0;34m(\u001b[0m\u001b[0;34m)\u001b[0m\u001b[0;34m\u001b[0m\u001b[0m\n\u001b[1;32m    168\u001b[0m         \u001b[0;32mtry\u001b[0m\u001b[0;34m:\u001b[0m\u001b[0;34m\u001b[0m\u001b[0m\n\u001b[0;32m--> 169\u001b[0;31m             \u001b[0mtiming\u001b[0m \u001b[0;34m=\u001b[0m \u001b[0mself\u001b[0m\u001b[0;34m.\u001b[0m\u001b[0minner\u001b[0m\u001b[0;34m(\u001b[0m\u001b[0mit\u001b[0m\u001b[0;34m,\u001b[0m \u001b[0mself\u001b[0m\u001b[0;34m.\u001b[0m\u001b[0mtimer\u001b[0m\u001b[0;34m)\u001b[0m\u001b[0;34m\u001b[0m\u001b[0m\n\u001b[0m\u001b[1;32m    170\u001b[0m         \u001b[0;32mfinally\u001b[0m\u001b[0;34m:\u001b[0m\u001b[0;34m\u001b[0m\u001b[0m\n\u001b[1;32m    171\u001b[0m             \u001b[0;32mif\u001b[0m \u001b[0mgcold\u001b[0m\u001b[0;34m:\u001b[0m\u001b[0;34m\u001b[0m\u001b[0m\n",
      "\u001b[0;32m<magic-timeit>\u001b[0m in \u001b[0;36minner\u001b[0;34m(_it, _timer)\u001b[0m\n",
      "\u001b[0;31mKeyboardInterrupt\u001b[0m: "
     ]
    }
   ],
   "source": [
    "%timeit 2+2"
   ]
  },
  {
   "cell_type": "code",
   "execution_count": 2,
   "metadata": {},
   "outputs": [],
   "source": [
    "# creation of train, validation and test folders\n",
    "\n",
    "import os\n",
    "import random\n",
    "from shutil import copyfile\n",
    "\n",
    "def img_train_test_split(img_source_dir, train_size, validation_size):\n",
    "    \"\"\"\n",
    "    Randomly splits images over a train and validation folder, while preserving the folder structure\n",
    "    \n",
    "    Parameters\n",
    "    ----------\n",
    "    img_source_dir : string\n",
    "        Path to the folder with the images to be split. Can be absolute or relative path   \n",
    "        \n",
    "    train_size : float\n",
    "        Proportion of the original images that need to be copied in the subdirectory in the train folder\n",
    "    \"\"\"    \n",
    "    if not (isinstance(img_source_dir, str)):\n",
    "        raise AttributeError('img_source_dir must be a string')\n",
    "        \n",
    "    if not os.path.exists(img_source_dir):\n",
    "        raise OSError('img_source_dir does not exist')\n",
    "        \n",
    "    if not (isinstance(train_size, float)):\n",
    "        raise AttributeError('train_size must be a float')\n",
    "        \n",
    "    # Set up empty folder structure if not exists\n",
    "    if not os.path.exists('../data'):\n",
    "        os.makedirs('../data')\n",
    "    else:\n",
    "        if not os.path.exists('../data/train'):\n",
    "            os.makedirs('../data/train')\n",
    "        if not os.path.exists('../data/validation'):\n",
    "            os.makedirs('../data/validation')\n",
    "        if not os.path.exists('../data/test'):\n",
    "            os.makedirs('../data/test')\n",
    "            \n",
    "    # Get the subdirectories in the main image folder\n",
    "    subdirs = [subdir for subdir in os.listdir(img_source_dir) if os.path.isdir(os.path.join(img_source_dir, subdir))]\n",
    "\n",
    "    for subdir in subdirs:\n",
    "        subdir_fullpath = os.path.join(img_source_dir, subdir)\n",
    "        if len(os.listdir(subdir_fullpath)) == 0:\n",
    "            print(subdir_fullpath + ' is empty')\n",
    "            break\n",
    "\n",
    "        train_subdir = os.path.join('../data/train', subdir)\n",
    "        validation_subdir = os.path.join('../data/validation', subdir)\n",
    "        test_subdir = os.path.join('../data/test', subdir)\n",
    "\n",
    "        # Create subdirectories in train and validation folders\n",
    "        if not os.path.exists(train_subdir):\n",
    "            os.makedirs(train_subdir)\n",
    "\n",
    "        if not os.path.exists(validation_subdir):\n",
    "            os.makedirs(validation_subdir)\n",
    "            \n",
    "        if not os.path.exists(test_subdir):\n",
    "            os.makedirs(test_subdir)\n",
    "\n",
    "        train_counter = 0\n",
    "        validation_counter = 0\n",
    "        test_counter = 0\n",
    "\n",
    "        # Randomly assign an image to train or validation folder\n",
    "        for filename in os.listdir(subdir_fullpath):\n",
    "            if filename.endswith(\".jpg\") or filename.endswith(\".png\"): \n",
    "                fileparts = filename.split('.')\n",
    "\n",
    "                if random.uniform(0, 1) <= train_size:\n",
    "                    copyfile(os.path.join(subdir_fullpath, filename),\n",
    "                             os.path.join(train_subdir, str(train_counter) + '.' + fileparts[1]))\n",
    "                    train_counter += 1\n",
    "                elif random.uniform(0, 1) <= validation_size:\n",
    "                    copyfile(os.path.join(subdir_fullpath, filename),\n",
    "                             os.path.join(validation_subdir, str(validation_counter) + '.' + fileparts[1]))\n",
    "                    validation_counter += 1\n",
    "                else :\n",
    "                    copyfile(os.path.join(subdir_fullpath, filename),\n",
    "                             os.path.join(test_subdir, str(test_counter) + '.' + fileparts[1]))\n",
    "                    test_counter += 1\n",
    "                    \n",
    "\n",
    "img_train_test_split('../data/images/', 0.7, 0.7)"
   ]
  },
  {
   "cell_type": "code",
   "execution_count": 5,
   "metadata": {
    "scrolled": true
   },
   "outputs": [
    {
     "name": "stdout",
     "output_type": "stream",
     "text": [
      "There are 120 total dog categories.\n",
      "There are 20580 total dog images.\n",
      "\n",
      "There are 14531 training dog images.\n",
      "There are 4232 validation dog images.\n",
      "There are 1817 test dog images.\n"
     ]
    }
   ],
   "source": [
    "from sklearn.datasets import load_files       \n",
    "from keras.utils import np_utils\n",
    "import numpy as np\n",
    "from glob import glob\n",
    "import pandas as pd\n",
    "import matplotlib.pyplot as plt\n",
    "\n",
    "# define function to load train, test, and validation datasets\n",
    "def load_dataset(path):\n",
    "    data = load_files(path)\n",
    "    dog_files = np.array(data['filenames'])\n",
    "    dog_targets = np_utils.to_categorical(np.array(data['target']), 120)\n",
    "    return dog_files, dog_targets\n",
    "\n",
    "# load train, test, and validation datasets\n",
    "train_files, train_targets = load_dataset('../data/train')\n",
    "valid_files, valid_targets = load_dataset('../data/validation')\n",
    "test_files, test_targets = load_dataset('../data/test')\n",
    "\n",
    "# load list of dog names\n",
    "dog_names = [item[20:-1] for item in sorted(glob(\"../data/train/*/\"))]\n",
    "\n",
    "# print statistics about the dataset\n",
    "print('There are %d total dog categories.' % len(dog_names))\n",
    "print('There are %s total dog images.\\n' % len(np.hstack([train_files, valid_files, test_files])))\n",
    "print('There are %d training dog images.' % len(train_files))\n",
    "print('There are %d validation dog images.' % len(valid_files))\n",
    "print('There are %d test dog images.'% len(test_files))"
   ]
  },
  {
   "cell_type": "code",
   "execution_count": 103,
   "metadata": {},
   "outputs": [],
   "source": [
    "y = valid_targets[15]\n",
    "results = sorted(enumerate(y), reverse=True, key=lambda x:x[1])\n",
    "classes_ind=[x[0] for x in results]\n",
    "classes = [dog_names[x] for x in classes_ind]"
   ]
  },
  {
   "cell_type": "code",
   "execution_count": 105,
   "metadata": {},
   "outputs": [
    {
     "data": {
      "text/plain": [
       "['505-komondor', '620-Chihuahua', '782-Japanese_spaniel']"
      ]
     },
     "execution_count": 105,
     "metadata": {},
     "output_type": "execute_result"
    }
   ],
   "source": [
    "classes"
   ]
  },
  {
   "cell_type": "code",
   "execution_count": 70,
   "metadata": {},
   "outputs": [],
   "source": [
    "data = load_files('../data/train')"
   ]
  },
  {
   "cell_type": "code",
   "execution_count": 81,
   "metadata": {
    "scrolled": true
   },
   "outputs": [
    {
     "data": {
      "text/plain": [
       "'../data/train/n02087394-Rhodesian_ridgeback/38.jpg'"
      ]
     },
     "execution_count": 81,
     "metadata": {},
     "output_type": "execute_result"
    }
   ],
   "source": [
    "data['filenames'][4]"
   ]
  },
  {
   "cell_type": "code",
   "execution_count": 72,
   "metadata": {},
   "outputs": [
    {
     "data": {
      "text/plain": [
       "sklearn.utils.Bunch"
      ]
     },
     "execution_count": 72,
     "metadata": {},
     "output_type": "execute_result"
    }
   ],
   "source": [
    "type(data)"
   ]
  },
  {
   "cell_type": "code",
   "execution_count": 6,
   "metadata": {},
   "outputs": [],
   "source": [
    "from keras.preprocessing import image                  \n",
    "from tqdm import tqdm\n",
    "\n",
    "def path_to_tensor(img_path):\n",
    "    # loads RGB image as PIL.Image.Image type\n",
    "    img = image.load_img(img_path, target_size=(224, 224))\n",
    "    # convert PIL.Image.Image type to 3D tensor with shape (224, 224, 3)\n",
    "    x = image.img_to_array(img)\n",
    "    # convert 3D tensor to 4D tensor with shape (1, 224, 224, 3) and return 4D tensor\n",
    "    return np.expand_dims(x, axis=0)\n",
    "\n",
    "def paths_to_tensor(img_paths):\n",
    "    list_of_tensors = [path_to_tensor(img_path) for img_path in tqdm(img_paths)]\n",
    "    return np.vstack(list_of_tensors)"
   ]
  },
  {
   "cell_type": "code",
   "execution_count": 102,
   "metadata": {},
   "outputs": [
    {
     "data": {
      "image/png": "[encoded data removed]",
      "text/plain": [
       "<PIL.JpegImagePlugin.JpegImageFile image mode=RGB size=251x172 at 0x7F44A46666A0>"
      ]
     },
     "execution_count": 102,
     "metadata": {},
     "output_type": "execute_result"
    }
   ],
   "source": [
    "def show_img(num):\n",
    "    img_path = valid_files[num]\n",
    "    img = image.load_img(img_path)\n",
    "    return img\n",
    "show_img(15)"
   ]
  },
  {
   "cell_type": "markdown",
   "metadata": {},
   "source": [
    "### Classification without data augmentation"
   ]
  },
  {
   "cell_type": "markdown",
   "metadata": {},
   "source": [
    "#### Trying the cnn on a small part of the dataset"
   ]
  },
  {
   "cell_type": "code",
   "execution_count": 7,
   "metadata": {},
   "outputs": [],
   "source": [
    "train_sample = train_files[0:1000]\n",
    "train_targets_sample = train_targets[0:1000]\n",
    "valid_sample = valid_files[0:400]\n",
    "valid_targets_sample = valid_targets[0:400]"
   ]
  },
  {
   "cell_type": "code",
   "execution_count": 8,
   "metadata": {},
   "outputs": [
    {
     "name": "stderr",
     "output_type": "stream",
     "text": [
      "100%|██████████| 1000/1000 [00:03<00:00, 313.00it/s]\n",
      "100%|██████████| 400/400 [00:01<00:00, 335.78it/s]\n"
     ]
    }
   ],
   "source": [
    "from PIL import ImageFile                            \n",
    "ImageFile.LOAD_TRUNCATED_IMAGES = True                 \n",
    "\n",
    "# pre-process the data for Keras\n",
    "train_tensors_sample = paths_to_tensor(train_sample).astype('float32')/255\n",
    "valid_tensors_sample = paths_to_tensor(valid_sample).astype('float32')/255\n"
   ]
  },
  {
   "cell_type": "code",
   "execution_count": 20,
   "metadata": {},
   "outputs": [
    {
     "data": {
      "text/plain": [
       "(1000, 224, 224, 3)"
      ]
     },
     "execution_count": 20,
     "metadata": {},
     "output_type": "execute_result"
    }
   ],
   "source": [
    "np.shape(train_tensors_sample)"
   ]
  },
  {
   "cell_type": "code",
   "execution_count": 9,
   "metadata": {},
   "outputs": [],
   "source": [
    "from keras.applications.vgg16 import VGG16\n",
    "from keras.layers import Input, Dense, Flatten\n",
    "from keras.models import Model, Sequential\n",
    "\n",
    "pretrained_model = VGG16(weights=\"imagenet\", include_top=False, input_shape=(224, 224, 3))\n",
    "pretrained_model.trainable = False\n",
    "\n",
    "model = Sequential([pretrained_model,\n",
    "                    Flatten(),\n",
    "                    Dense(120, activation='softmax')])"
   ]
  },
  {
   "cell_type": "code",
   "execution_count": 5,
   "metadata": {},
   "outputs": [
    {
     "name": "stdout",
     "output_type": "stream",
     "text": [
      "Model: \"sequential_1\"\n",
      "_________________________________________________________________\n",
      "Layer (type)                 Output Shape              Param #   \n",
      "=================================================================\n",
      "vgg16 (Model)                (None, 7, 7, 512)         14714688  \n",
      "_________________________________________________________________\n",
      "flatten_1 (Flatten)          (None, 25088)             0         \n",
      "_________________________________________________________________\n",
      "dense_1 (Dense)              (None, 120)               3010680   \n",
      "=================================================================\n",
      "Total params: 17,725,368\n",
      "Trainable params: 3,010,680\n",
      "Non-trainable params: 14,714,688\n",
      "_________________________________________________________________\n"
     ]
    }
   ],
   "source": [
    "model.summary()"
   ]
  },
  {
   "cell_type": "code",
   "execution_count": 8,
   "metadata": {},
   "outputs": [
    {
     "name": "stdout",
     "output_type": "stream",
     "text": [
      "Model: \"vgg16\"\n",
      "_________________________________________________________________\n",
      "Layer (type)                 Output Shape              Param #   \n",
      "=================================================================\n",
      "input_1 (InputLayer)         (None, 224, 224, 3)       0         \n",
      "_________________________________________________________________\n",
      "block1_conv1 (Conv2D)        (None, 224, 224, 64)      1792      \n",
      "_________________________________________________________________\n",
      "block1_conv2 (Conv2D)        (None, 224, 224, 64)      36928     \n",
      "_________________________________________________________________\n",
      "block1_pool (MaxPooling2D)   (None, 112, 112, 64)      0         \n",
      "_________________________________________________________________\n",
      "block2_conv1 (Conv2D)        (None, 112, 112, 128)     73856     \n",
      "_________________________________________________________________\n",
      "block2_conv2 (Conv2D)        (None, 112, 112, 128)     147584    \n",
      "_________________________________________________________________\n",
      "block2_pool (MaxPooling2D)   (None, 56, 56, 128)       0         \n",
      "_________________________________________________________________\n",
      "block3_conv1 (Conv2D)        (None, 56, 56, 256)       295168    \n",
      "_________________________________________________________________\n",
      "block3_conv2 (Conv2D)        (None, 56, 56, 256)       590080    \n",
      "_________________________________________________________________\n",
      "block3_conv3 (Conv2D)        (None, 56, 56, 256)       590080    \n",
      "_________________________________________________________________\n",
      "block3_pool (MaxPooling2D)   (None, 28, 28, 256)       0         \n",
      "_________________________________________________________________\n",
      "block4_conv1 (Conv2D)        (None, 28, 28, 512)       1180160   \n",
      "_________________________________________________________________\n",
      "block4_conv2 (Conv2D)        (None, 28, 28, 512)       2359808   \n",
      "_________________________________________________________________\n",
      "block4_conv3 (Conv2D)        (None, 28, 28, 512)       2359808   \n",
      "_________________________________________________________________\n",
      "block4_pool (MaxPooling2D)   (None, 14, 14, 512)       0         \n",
      "_________________________________________________________________\n",
      "block5_conv1 (Conv2D)        (None, 14, 14, 512)       2359808   \n",
      "_________________________________________________________________\n",
      "block5_conv2 (Conv2D)        (None, 14, 14, 512)       2359808   \n",
      "_________________________________________________________________\n",
      "block5_conv3 (Conv2D)        (None, 14, 14, 512)       2359808   \n",
      "_________________________________________________________________\n",
      "block5_pool (MaxPooling2D)   (None, 7, 7, 512)         0         \n",
      "=================================================================\n",
      "Total params: 14,714,688\n",
      "Trainable params: 0\n",
      "Non-trainable params: 14,714,688\n",
      "_________________________________________________________________\n"
     ]
    }
   ],
   "source": [
    "pretrained_model.summary()"
   ]
  },
  {
   "cell_type": "code",
   "execution_count": 10,
   "metadata": {},
   "outputs": [
    {
     "name": "stdout",
     "output_type": "stream",
     "text": [
      "Train on 1000 samples, validate on 1000 samples\n",
      "Epoch 1/4\n",
      " - 498s - loss: 7.4863 - accuracy: 0.0270 - val_loss: 1.1347 - val_accuracy: 0.7900\n",
      "Epoch 2/4\n",
      " - 442s - loss: 0.5260 - accuracy: 0.8980 - val_loss: 0.0685 - val_accuracy: 0.9970\n",
      "Epoch 3/4\n",
      " - 444s - loss: 0.0538 - accuracy: 0.9960 - val_loss: 0.0116 - val_accuracy: 1.0000\n",
      "Epoch 4/4\n",
      " - 444s - loss: 0.0099 - accuracy: 1.0000 - val_loss: 0.0055 - val_accuracy: 1.0000\n"
     ]
    },
    {
     "data": {
      "text/plain": [
       "<keras.callbacks.callbacks.History at 0x7fcbcb558fd0>"
      ]
     },
     "execution_count": 10,
     "metadata": {},
     "output_type": "execute_result"
    }
   ],
   "source": [
    "model.compile(optimizer='adam', loss='categorical_crossentropy', metrics=['accuracy'])\n",
    "\n",
    "epochs = 4\n",
    "\n",
    "model.fit(train_tensors_sample, train_targets_sample, \n",
    "          validation_data=(train_tensors_sample, train_targets_sample),\n",
    "          epochs=epochs, batch_size=20, verbose=2)"
   ]
  },
  {
   "cell_type": "markdown",
   "metadata": {},
   "source": [
    "#### vgg16 "
   ]
  },
  {
   "cell_type": "code",
   "execution_count": 164,
   "metadata": {},
   "outputs": [
    {
     "name": "stderr",
     "output_type": "stream",
     "text": [
      "  3%|▎         | 491/14420 [00:01<00:33, 411.21it/s]\n",
      "\n",
      "100%|██████████| 14420/14420 [00:45<00:00, 313.75it/s][A\u001b[A\n",
      "100%|██████████| 2437/2437 [00:12<00:00, 189.88it/s]\n",
      "100%|██████████| 3723/3723 [00:14<00:00, 258.63it/s]\n"
     ]
    }
   ],
   "source": [
    "from PIL import ImageFile             \n",
    "ImageFile.LOAD_TRUNCATED_IMAGES = True \n",
    "\n",
    "# pre-process the data for Keras\n",
    "train_tensors = paths_to_tensor(train_files).astype('float32')/255\n",
    "valid_tensors = paths_to_tensor(valid_files).astype('float32')/255\n",
    "test_tensors = paths_to_tensor(test_files).astype('float32')/255"
   ]
  },
  {
   "cell_type": "code",
   "execution_count": 165,
   "metadata": {},
   "outputs": [],
   "source": [
    "from keras.callbacks import ModelCheckpoint, History\n",
    "\n",
    "history = History()\n",
    "checkpoint_filepath = '../data/checkpoint'\n",
    "model_checkpoint = ModelCheckpoint(filepath=checkpoint_filepath,\n",
    "                                   verbose=1,\n",
    "                                   save_best_only=True)"
   ]
  },
  {
   "cell_type": "code",
   "execution_count": 166,
   "metadata": {},
   "outputs": [
    {
     "name": "stdout",
     "output_type": "stream",
     "text": [
      "Train on 14420 samples, validate on 2437 samples\n",
      "Epoch 1/20\n",
      " - 3560s - loss: 4.9589 - accuracy: 0.4349 - val_loss: 7.8486 - val_accuracy: 0.2630\n",
      "\n",
      "Epoch 00001: val_loss improved from inf to 7.84860, saving model to ../data/checkpoint\n",
      "Epoch 2/20\n",
      " - 3544s - loss: 1.1847 - accuracy: 0.7640 - val_loss: 7.4203 - val_accuracy: 0.2675\n",
      "\n",
      "Epoch 00002: val_loss improved from 7.84860 to 7.42031, saving model to ../data/checkpoint\n",
      "Epoch 3/20\n",
      " - 3546s - loss: 0.6266 - accuracy: 0.8553 - val_loss: 7.8203 - val_accuracy: 0.2799\n",
      "\n",
      "Epoch 00003: val_loss did not improve from 7.42031\n",
      "Epoch 4/20\n",
      " - 3590s - loss: 0.4782 - accuracy: 0.8872 - val_loss: 8.7823 - val_accuracy: 0.2507\n",
      "\n",
      "Epoch 00004: val_loss did not improve from 7.42031\n",
      "Epoch 5/20\n",
      " - 3607s - loss: 0.5126 - accuracy: 0.8882 - val_loss: 8.9512 - val_accuracy: 0.2618\n",
      "\n",
      "Epoch 00005: val_loss did not improve from 7.42031\n",
      "Epoch 6/20\n",
      " - 3827s - loss: 0.4965 - accuracy: 0.8943 - val_loss: 9.8778 - val_accuracy: 0.2556\n",
      "\n",
      "Epoch 00006: val_loss did not improve from 7.42031\n",
      "Epoch 7/20\n",
      " - 3736s - loss: 0.4859 - accuracy: 0.9015 - val_loss: 9.9754 - val_accuracy: 0.2491\n",
      "\n",
      "Epoch 00007: val_loss did not improve from 7.42031\n",
      "Epoch 8/20\n",
      " - 3693s - loss: 0.4660 - accuracy: 0.9107 - val_loss: 10.9894 - val_accuracy: 0.2405\n",
      "\n",
      "Epoch 00008: val_loss did not improve from 7.42031\n",
      "Epoch 9/20\n",
      " - 3674s - loss: 0.3976 - accuracy: 0.9242 - val_loss: 10.6458 - val_accuracy: 0.2569\n",
      "\n",
      "Epoch 00009: val_loss did not improve from 7.42031\n",
      "Epoch 10/20\n",
      " - 3701s - loss: 0.3902 - accuracy: 0.9260 - val_loss: 11.0663 - val_accuracy: 0.2622\n",
      "\n",
      "Epoch 00010: val_loss did not improve from 7.42031\n",
      "Epoch 11/20\n",
      " - 3677s - loss: 0.3681 - accuracy: 0.9333 - val_loss: 11.9832 - val_accuracy: 0.2372\n",
      "\n",
      "Epoch 00011: val_loss did not improve from 7.42031\n",
      "Epoch 12/20\n",
      " - 3683s - loss: 0.3503 - accuracy: 0.9377 - val_loss: 12.6076 - val_accuracy: 0.2593\n",
      "\n",
      "Epoch 00012: val_loss did not improve from 7.42031\n",
      "Epoch 13/20\n",
      " - 3675s - loss: 0.3166 - accuracy: 0.9461 - val_loss: 12.4121 - val_accuracy: 0.2618\n",
      "\n",
      "Epoch 00013: val_loss did not improve from 7.42031\n",
      "Epoch 14/20\n",
      " - 3642s - loss: 0.3184 - accuracy: 0.9460 - val_loss: 12.1402 - val_accuracy: 0.2618\n",
      "\n",
      "Epoch 00014: val_loss did not improve from 7.42031\n",
      "Epoch 15/20\n",
      " - 3661s - loss: 0.3184 - accuracy: 0.9468 - val_loss: 13.3469 - val_accuracy: 0.2569\n",
      "\n",
      "Epoch 00015: val_loss did not improve from 7.42031\n",
      "Epoch 16/20\n",
      " - 33041s - loss: 0.2643 - accuracy: 0.9542 - val_loss: 13.1182 - val_accuracy: 0.2589\n",
      "\n",
      "Epoch 00016: val_loss did not improve from 7.42031\n",
      "Epoch 17/20\n",
      " - 3723s - loss: 0.2401 - accuracy: 0.9592 - val_loss: 13.4521 - val_accuracy: 0.2478\n",
      "\n",
      "Epoch 00017: val_loss did not improve from 7.42031\n",
      "Epoch 18/20\n",
      " - 3690s - loss: 0.2990 - accuracy: 0.9521 - val_loss: 13.5086 - val_accuracy: 0.2487\n",
      "\n",
      "Epoch 00018: val_loss did not improve from 7.42031\n",
      "Epoch 19/20\n",
      " - 3714s - loss: 0.2656 - accuracy: 0.9573 - val_loss: 15.2426 - val_accuracy: 0.2232\n",
      "\n",
      "Epoch 00019: val_loss did not improve from 7.42031\n",
      "Epoch 20/20\n",
      " - 3681s - loss: 0.2397 - accuracy: 0.9613 - val_loss: 14.6989 - val_accuracy: 0.2347\n",
      "\n",
      "Epoch 00020: val_loss did not improve from 7.42031\n",
      "CPU times: user 4d 8h 55min 16s, sys: 16h 26min 28s, total: 5d 1h 21min 44s\n",
      "Wall time: 1d 4h 31min 6s\n"
     ]
    },
    {
     "data": {
      "text/plain": [
       "<keras.callbacks.callbacks.History at 0x7fe74c37b9e8>"
      ]
     },
     "execution_count": 166,
     "metadata": {},
     "output_type": "execute_result"
    }
   ],
   "source": [
    "%%time\n",
    "# specify the number of epochs that you would like to use to train the model.\n",
    "epochs = 20\n",
    "\n",
    "model.fit(train_tensors, train_targets, \n",
    "          validation_data=(valid_tensors, valid_targets),\n",
    "          epochs=epochs, \n",
    "          batch_size=20, \n",
    "          verbose=2,\n",
    "          callbacks = [model_checkpoint, history])"
   ]
  },
  {
   "cell_type": "markdown",
   "metadata": {},
   "source": [
    "### Cnn with data augmentation"
   ]
  },
  {
   "cell_type": "code",
   "execution_count": 167,
   "metadata": {},
   "outputs": [
    {
     "name": "stdout",
     "output_type": "stream",
     "text": [
      "Found 14420 images belonging to 120 classes.\n",
      "Found 2437 images belonging to 120 classes.\n"
     ]
    }
   ],
   "source": [
    "# training image augmentation\n",
    "from keras.preprocessing.image import ImageDataGenerator, array_to_img, img_to_array, load_img\n",
    "from keras import optimizers\n",
    "from keras.callbacks import History \n",
    "\n",
    "batch_size = 16\n",
    "\n",
    "# this is the augmentation configuration I will use for training\n",
    "train_datagen = ImageDataGenerator(rotation_range = 30,\n",
    "                                   width_shift_range = 0.2,\n",
    "                                   height_shift_range = 0.2,\n",
    "                                   rescale = 1./255,\n",
    "                                   shear_range = 0.2,\n",
    "                                   zoom_range = 0.2,\n",
    "                                   horizontal_flip = True,\n",
    "                                   fill_mode = 'nearest')\n",
    "\n",
    "# This is the augmentation configuration I will use for testing/validation... just a rescale\n",
    "test_datagen = ImageDataGenerator(rescale=1./255)\n",
    "\n",
    "# This is the generator which will read pictures found in my training subset\n",
    "train_generator = train_datagen.flow_from_directory('../data/train/',\n",
    "                                                    target_size = (224, 224),\n",
    "                                                    batch_size = batch_size,\n",
    "                                                    class_mode = 'categorical')\n",
    "\n",
    "# This is the generator for validation data\n",
    "validation_generator = test_datagen.flow_from_directory('../data/validation/',\n",
    "                                                        target_size = (224, 224),\n",
    "                                                        batch_size = batch_size,\n",
    "                                                        class_mode = 'categorical')"
   ]
  },
  {
   "cell_type": "code",
   "execution_count": 1,
   "metadata": {},
   "outputs": [
    {
     "ename": "NameError",
     "evalue": "name 'train_generator' is not defined",
     "output_type": "error",
     "traceback": [
      "\u001b[0;31m---------------------------------------------------------------------------\u001b[0m",
      "\u001b[0;31mNameError\u001b[0m                                 Traceback (most recent call last)",
      "\u001b[0;32m<ipython-input-1-d0d9e8cb5c86>\u001b[0m in \u001b[0;36m<module>\u001b[0;34m\u001b[0m\n\u001b[0;32m----> 1\u001b[0;31m \u001b[0mx\u001b[0m\u001b[0;34m,\u001b[0m\u001b[0my\u001b[0m \u001b[0;34m=\u001b[0m \u001b[0mtrain_generator\u001b[0m\u001b[0;34m.\u001b[0m\u001b[0mnext\u001b[0m\u001b[0;34m(\u001b[0m\u001b[0;34m)\u001b[0m\u001b[0;34m\u001b[0m\u001b[0m\n\u001b[0m\u001b[1;32m      2\u001b[0m \u001b[0mtest\u001b[0m \u001b[0;34m=\u001b[0m \u001b[0mx\u001b[0m\u001b[0;34m[\u001b[0m\u001b[0;36m15\u001b[0m\u001b[0;34m]\u001b[0m\u001b[0;34m\u001b[0m\u001b[0m\n\u001b[1;32m      3\u001b[0m \u001b[0mplt\u001b[0m\u001b[0;34m.\u001b[0m\u001b[0mimshow\u001b[0m\u001b[0;34m(\u001b[0m\u001b[0mtest\u001b[0m\u001b[0;34m)\u001b[0m\u001b[0;34m\u001b[0m\u001b[0m\n",
      "\u001b[0;31mNameError\u001b[0m: name 'train_generator' is not defined"
     ]
    }
   ],
   "source": [
    "x,y = train_generator.next()\n",
    "test = x[15]\n",
    "plt.imshow(test)"
   ]
  },
  {
   "cell_type": "code",
   "execution_count": 168,
   "metadata": {},
   "outputs": [],
   "source": [
    "from keras.callbacks import ModelCheckpoint, History\n",
    "\n",
    "history = History()\n",
    "checkpoint_augmentation = '../data/checkpoint_augmentation'\n",
    "model_checkpoint_augmentation = ModelCheckpoint(filepath=checkpoint_augmentation,\n",
    "                                                verbose=1,\n",
    "                                                save_best_only=True)"
   ]
  },
  {
   "cell_type": "code",
   "execution_count": 169,
   "metadata": {},
   "outputs": [
    {
     "name": "stdout",
     "output_type": "stream",
     "text": [
      "Epoch 1/30\n",
      " - 3704s - loss: 12.8014 - accuracy: 0.2596 - val_loss: 2.7200 - val_accuracy: 0.2573\n",
      "\n",
      "Epoch 00001: val_loss improved from inf to 2.71996, saving model to ../data/checkpoint_augmentation\n",
      "Epoch 2/30\n",
      " - 3659s - loss: 9.0285 - accuracy: 0.3304 - val_loss: 13.0687 - val_accuracy: 0.2868\n",
      "\n",
      "Epoch 00002: val_loss did not improve from 2.71996\n",
      "Epoch 3/30\n",
      " - 3658s - loss: 8.0821 - accuracy: 0.3491 - val_loss: 6.1390 - val_accuracy: 0.2913\n",
      "\n",
      "Epoch 00003: val_loss did not improve from 2.71996\n",
      "Epoch 4/30\n",
      " - 3736s - loss: 7.5232 - accuracy: 0.3681 - val_loss: 13.9761 - val_accuracy: 0.2987\n",
      "\n",
      "Epoch 00004: val_loss did not improve from 2.71996\n",
      "Epoch 5/30\n",
      " - 3635s - loss: 7.1920 - accuracy: 0.3870 - val_loss: 9.8625 - val_accuracy: 0.2840\n",
      "\n",
      "Epoch 00005: val_loss did not improve from 2.71996\n",
      "Epoch 6/30\n",
      " - 3638s - loss: 7.0727 - accuracy: 0.3874 - val_loss: 6.2316 - val_accuracy: 0.2872\n",
      "\n",
      "Epoch 00006: val_loss did not improve from 2.71996\n",
      "Epoch 7/30\n",
      " - 3635s - loss: 6.8344 - accuracy: 0.3941 - val_loss: 6.2140 - val_accuracy: 0.2881\n",
      "\n",
      "Epoch 00007: val_loss did not improve from 2.71996\n",
      "Epoch 8/30\n",
      " - 3619s - loss: 6.6370 - accuracy: 0.3974 - val_loss: 10.2172 - val_accuracy: 0.2934\n",
      "\n",
      "Epoch 00008: val_loss did not improve from 2.71996\n",
      "Epoch 9/30\n",
      " - 3601s - loss: 6.6257 - accuracy: 0.4052 - val_loss: 8.0599 - val_accuracy: 0.3045\n",
      "\n",
      "Epoch 00009: val_loss did not improve from 2.71996\n",
      "Epoch 10/30\n",
      " - 3612s - loss: 6.4433 - accuracy: 0.4125 - val_loss: 20.6419 - val_accuracy: 0.3069\n",
      "\n",
      "Epoch 00010: val_loss did not improve from 2.71996\n",
      "Epoch 11/30\n",
      " - 3671s - loss: 6.3971 - accuracy: 0.4127 - val_loss: 4.5843 - val_accuracy: 0.2950\n",
      "\n",
      "Epoch 00011: val_loss did not improve from 2.71996\n",
      "Epoch 12/30\n",
      " - 3639s - loss: 6.1789 - accuracy: 0.4201 - val_loss: 10.1587 - val_accuracy: 0.2885\n",
      "\n",
      "Epoch 00012: val_loss did not improve from 2.71996\n",
      "Epoch 13/30\n",
      " - 3647s - loss: 6.1112 - accuracy: 0.4244 - val_loss: 20.9142 - val_accuracy: 0.3020\n",
      "\n",
      "Epoch 00013: val_loss did not improve from 2.71996\n",
      "Epoch 14/30\n",
      " - 3631s - loss: 6.1417 - accuracy: 0.4245 - val_loss: 16.7446 - val_accuracy: 0.2794\n",
      "\n",
      "Epoch 00014: val_loss did not improve from 2.71996\n",
      "Epoch 15/30\n",
      " - 3629s - loss: 5.9402 - accuracy: 0.4419 - val_loss: 13.9881 - val_accuracy: 0.2811\n",
      "\n",
      "Epoch 00015: val_loss did not improve from 2.71996\n",
      "Epoch 16/30\n",
      " - 3619s - loss: 5.8999 - accuracy: 0.4349 - val_loss: 13.3676 - val_accuracy: 0.2918\n",
      "\n",
      "Epoch 00016: val_loss did not improve from 2.71996\n",
      "Epoch 17/30\n",
      " - 3615s - loss: 6.0319 - accuracy: 0.4367 - val_loss: 4.6872 - val_accuracy: 0.2819\n",
      "\n",
      "Epoch 00017: val_loss did not improve from 2.71996\n",
      "Epoch 18/30\n",
      " - 3629s - loss: 5.7456 - accuracy: 0.4506 - val_loss: 9.1238 - val_accuracy: 0.2831\n",
      "\n",
      "Epoch 00018: val_loss did not improve from 2.71996\n",
      "Epoch 19/30\n",
      " - 3646s - loss: 5.8813 - accuracy: 0.4468 - val_loss: 12.8282 - val_accuracy: 0.3041\n",
      "\n",
      "Epoch 00019: val_loss did not improve from 2.71996\n",
      "Epoch 20/30\n",
      " - 3645s - loss: 5.6812 - accuracy: 0.4528 - val_loss: 6.4976 - val_accuracy: 0.2979\n",
      "\n",
      "Epoch 00020: val_loss did not improve from 2.71996\n",
      "Epoch 21/30\n",
      " - 3679s - loss: 5.7193 - accuracy: 0.4554 - val_loss: 20.8226 - val_accuracy: 0.2897\n",
      "\n",
      "Epoch 00021: val_loss did not improve from 2.71996\n",
      "Epoch 22/30\n",
      " - 3675s - loss: 5.5987 - accuracy: 0.4628 - val_loss: 0.2417 - val_accuracy: 0.2987\n",
      "\n",
      "Epoch 00022: val_loss improved from 2.71996 to 0.24173, saving model to ../data/checkpoint_augmentation\n",
      "Epoch 23/30\n",
      " - 3692s - loss: 5.7654 - accuracy: 0.4558 - val_loss: 19.8871 - val_accuracy: 0.3049\n",
      "\n",
      "Epoch 00023: val_loss did not improve from 0.24173\n",
      "Epoch 24/30\n",
      " - 3695s - loss: 5.6342 - accuracy: 0.4664 - val_loss: 7.8709 - val_accuracy: 0.3032\n",
      "\n",
      "Epoch 00024: val_loss did not improve from 0.24173\n",
      "Epoch 25/30\n",
      " - 3698s - loss: 5.4660 - accuracy: 0.4668 - val_loss: 10.1148 - val_accuracy: 0.3012\n",
      "\n",
      "Epoch 00025: val_loss did not improve from 0.24173\n",
      "Epoch 26/30\n",
      " - 3688s - loss: 5.4810 - accuracy: 0.4692 - val_loss: 18.3889 - val_accuracy: 0.3041\n",
      "\n",
      "Epoch 00026: val_loss did not improve from 0.24173\n",
      "Epoch 27/30\n",
      " - 3684s - loss: 5.4232 - accuracy: 0.4690 - val_loss: 4.0000 - val_accuracy: 0.3151\n",
      "\n",
      "Epoch 00027: val_loss did not improve from 0.24173\n",
      "Epoch 28/30\n",
      " - 3679s - loss: 5.4667 - accuracy: 0.4752 - val_loss: 9.6667 - val_accuracy: 0.3114\n",
      "\n",
      "Epoch 00028: val_loss did not improve from 0.24173\n",
      "Epoch 29/30\n",
      " - 3670s - loss: 5.4257 - accuracy: 0.4713 - val_loss: 6.3441 - val_accuracy: 0.3201\n",
      "\n",
      "Epoch 00029: val_loss did not improve from 0.24173\n",
      "Epoch 30/30\n",
      " - 3661s - loss: 5.4063 - accuracy: 0.4740 - val_loss: 13.1090 - val_accuracy: 0.3123\n",
      "\n",
      "Epoch 00030: val_loss did not improve from 0.24173\n",
      "CPU times: user 6d 15h 48min 42s, sys: 23h 37min 35s, total: 7d 15h 26min 17s\n",
      "Wall time: 1d 6h 28min 9s\n"
     ]
    },
    {
     "data": {
      "text/plain": [
       "<keras.callbacks.callbacks.History at 0x7fe74c443160>"
      ]
     },
     "execution_count": 169,
     "metadata": {},
     "output_type": "execute_result"
    }
   ],
   "source": [
    "%%time\n",
    "model.fit_generator(train_generator,\n",
    "                    epochs = 30,\n",
    "                    validation_data = validation_generator,\n",
    "                    callbacks = [model_checkpoint_augmentation, history],\n",
    "                    verbose=2)"
   ]
  },
  {
   "cell_type": "code",
   "execution_count": 24,
   "metadata": {},
   "outputs": [],
   "source": [
    "from keras.applications.vgg16 import VGG16\n",
    "from keras.layers import Input, Dense, Flatten\n",
    "from keras.models import Model, Sequential\n",
    "\n",
    "vgg = VGG16(weights=\"imagenet\", include_top=False, input_shape=(224, 224, 3))\n",
    "\n",
    "output = vgg.output\n",
    "output = Flatten()(output)\n",
    "output = Dense(120, activation='softmax')(output)\n",
    "vgg_model = Model(vgg.input, output)\n",
    "\n",
    "vgg_model.trainable = False\n",
    "for layer in vgg_model.layers:\n",
    "    layer.trainable = False"
   ]
  },
  {
   "cell_type": "code",
   "execution_count": 25,
   "metadata": {},
   "outputs": [],
   "source": [
    "# Compiler le modèle \n",
    "from keras.optimizers import Adam\n",
    "\n",
    "opt = Adam(lr=0.001)\n",
    "\n",
    "vgg_model.compile(loss=\"categorical_crossentropy\", \n",
    "                  optimizer=opt,\n",
    "                  metrics=[\"accuracy\"])\n"
   ]
  },
  {
   "cell_type": "code",
   "execution_count": 28,
   "metadata": {},
   "outputs": [
    {
     "name": "stdout",
     "output_type": "stream",
     "text": [
      "Model: \"model_3\"\n",
      "_________________________________________________________________\n",
      "Layer (type)                 Output Shape              Param #   \n",
      "=================================================================\n",
      "input_3 (InputLayer)         (None, 224, 224, 3)       0         \n",
      "_________________________________________________________________\n",
      "block1_conv1 (Conv2D)        (None, 224, 224, 64)      1792      \n",
      "_________________________________________________________________\n",
      "block1_conv2 (Conv2D)        (None, 224, 224, 64)      36928     \n",
      "_________________________________________________________________\n",
      "block1_pool (MaxPooling2D)   (None, 112, 112, 64)      0         \n",
      "_________________________________________________________________\n",
      "block2_conv1 (Conv2D)        (None, 112, 112, 128)     73856     \n",
      "_________________________________________________________________\n",
      "block2_conv2 (Conv2D)        (None, 112, 112, 128)     147584    \n",
      "_________________________________________________________________\n",
      "block2_pool (MaxPooling2D)   (None, 56, 56, 128)       0         \n",
      "_________________________________________________________________\n",
      "block3_conv1 (Conv2D)        (None, 56, 56, 256)       295168    \n",
      "_________________________________________________________________\n",
      "block3_conv2 (Conv2D)        (None, 56, 56, 256)       590080    \n",
      "_________________________________________________________________\n",
      "block3_conv3 (Conv2D)        (None, 56, 56, 256)       590080    \n",
      "_________________________________________________________________\n",
      "block3_pool (MaxPooling2D)   (None, 28, 28, 256)       0         \n",
      "_________________________________________________________________\n",
      "block4_conv1 (Conv2D)        (None, 28, 28, 512)       1180160   \n",
      "_________________________________________________________________\n",
      "block4_conv2 (Conv2D)        (None, 28, 28, 512)       2359808   \n",
      "_________________________________________________________________\n",
      "block4_conv3 (Conv2D)        (None, 28, 28, 512)       2359808   \n",
      "_________________________________________________________________\n",
      "block4_pool (MaxPooling2D)   (None, 14, 14, 512)       0         \n",
      "_________________________________________________________________\n",
      "block5_conv1 (Conv2D)        (None, 14, 14, 512)       2359808   \n",
      "_________________________________________________________________\n",
      "block5_conv2 (Conv2D)        (None, 14, 14, 512)       2359808   \n",
      "_________________________________________________________________\n",
      "block5_conv3 (Conv2D)        (None, 14, 14, 512)       2359808   \n",
      "_________________________________________________________________\n",
      "block5_pool (MaxPooling2D)   (None, 7, 7, 512)         0         \n",
      "_________________________________________________________________\n",
      "flatten_3 (Flatten)          (None, 25088)             0         \n",
      "_________________________________________________________________\n",
      "dense_3 (Dense)              (None, 120)               3010680   \n",
      "=================================================================\n",
      "Total params: 17,725,368\n",
      "Trainable params: 0\n",
      "Non-trainable params: 17,725,368\n",
      "_________________________________________________________________\n"
     ]
    }
   ],
   "source": [
    "vgg_model.summary()"
   ]
  },
  {
   "cell_type": "code",
   "execution_count": 26,
   "metadata": {},
   "outputs": [],
   "source": [
    "from keras.callbacks import ModelCheckpoint, History\n",
    "\n",
    "history = History()\n",
    "checkpoint_filepath = '../data/checkpoint'\n",
    "model_checkpoint = ModelCheckpoint(filepath=checkpoint_filepath,\n",
    "                                   verbose=1,\n",
    "                                   save_best_only=True)"
   ]
  },
  {
   "cell_type": "code",
   "execution_count": 29,
   "metadata": {},
   "outputs": [
    {
     "name": "stdout",
     "output_type": "stream",
     "text": [
      "Epoch 1/10\n"
     ]
    },
    {
     "ename": "ValueError",
     "evalue": "The truth value of an array with more than one element is ambiguous. Use a.any() or a.all()",
     "output_type": "error",
     "traceback": [
      "\u001b[0;31m---------------------------------------------------------------------------\u001b[0m",
      "\u001b[0;31mValueError\u001b[0m                                Traceback (most recent call last)",
      "\u001b[0;32m<timed eval>\u001b[0m in \u001b[0;36m<module>\u001b[0;34m\u001b[0m\n",
      "\u001b[0;32m~/.virtualenvs/py3cv4/lib/python3.5/site-packages/keras/legacy/interfaces.py\u001b[0m in \u001b[0;36mwrapper\u001b[0;34m(*args, **kwargs)\u001b[0m\n\u001b[1;32m     89\u001b[0m                 warnings.warn('Update your `' + object_name + '` call to the ' +\n\u001b[1;32m     90\u001b[0m                               'Keras 2 API: ' + signature, stacklevel=2)\n\u001b[0;32m---> 91\u001b[0;31m             \u001b[0;32mreturn\u001b[0m \u001b[0mfunc\u001b[0m\u001b[0;34m(\u001b[0m\u001b[0;34m*\u001b[0m\u001b[0margs\u001b[0m\u001b[0;34m,\u001b[0m \u001b[0;34m**\u001b[0m\u001b[0mkwargs\u001b[0m\u001b[0;34m)\u001b[0m\u001b[0;34m\u001b[0m\u001b[0m\n\u001b[0m\u001b[1;32m     92\u001b[0m         \u001b[0mwrapper\u001b[0m\u001b[0;34m.\u001b[0m\u001b[0m_original_function\u001b[0m \u001b[0;34m=\u001b[0m \u001b[0mfunc\u001b[0m\u001b[0;34m\u001b[0m\u001b[0m\n\u001b[1;32m     93\u001b[0m         \u001b[0;32mreturn\u001b[0m \u001b[0mwrapper\u001b[0m\u001b[0;34m\u001b[0m\u001b[0m\n",
      "\u001b[0;32m~/.virtualenvs/py3cv4/lib/python3.5/site-packages/keras/engine/training.py\u001b[0m in \u001b[0;36mfit_generator\u001b[0;34m(self, generator, steps_per_epoch, epochs, verbose, callbacks, validation_data, validation_steps, validation_freq, class_weight, max_queue_size, workers, use_multiprocessing, shuffle, initial_epoch)\u001b[0m\n\u001b[1;32m   1730\u001b[0m             \u001b[0muse_multiprocessing\u001b[0m\u001b[0;34m=\u001b[0m\u001b[0muse_multiprocessing\u001b[0m\u001b[0;34m,\u001b[0m\u001b[0;34m\u001b[0m\u001b[0m\n\u001b[1;32m   1731\u001b[0m             \u001b[0mshuffle\u001b[0m\u001b[0;34m=\u001b[0m\u001b[0mshuffle\u001b[0m\u001b[0;34m,\u001b[0m\u001b[0;34m\u001b[0m\u001b[0m\n\u001b[0;32m-> 1732\u001b[0;31m             initial_epoch=initial_epoch)\n\u001b[0m\u001b[1;32m   1733\u001b[0m \u001b[0;34m\u001b[0m\u001b[0m\n\u001b[1;32m   1734\u001b[0m     \u001b[0;34m@\u001b[0m\u001b[0minterfaces\u001b[0m\u001b[0;34m.\u001b[0m\u001b[0mlegacy_generator_methods_support\u001b[0m\u001b[0;34m\u001b[0m\u001b[0m\n",
      "\u001b[0;32m~/.virtualenvs/py3cv4/lib/python3.5/site-packages/keras/engine/training_generator.py\u001b[0m in \u001b[0;36mfit_generator\u001b[0;34m(model, generator, steps_per_epoch, epochs, verbose, callbacks, validation_data, validation_steps, validation_freq, class_weight, max_queue_size, workers, use_multiprocessing, shuffle, initial_epoch)\u001b[0m\n\u001b[1;32m    182\u001b[0m             \u001b[0msteps_done\u001b[0m \u001b[0;34m=\u001b[0m \u001b[0;36m0\u001b[0m\u001b[0;34m\u001b[0m\u001b[0m\n\u001b[1;32m    183\u001b[0m             \u001b[0mbatch_index\u001b[0m \u001b[0;34m=\u001b[0m \u001b[0;36m0\u001b[0m\u001b[0;34m\u001b[0m\u001b[0m\n\u001b[0;32m--> 184\u001b[0;31m             \u001b[0;32mwhile\u001b[0m \u001b[0msteps_done\u001b[0m \u001b[0;34m<\u001b[0m \u001b[0msteps_per_epoch\u001b[0m\u001b[0;34m:\u001b[0m\u001b[0;34m\u001b[0m\u001b[0m\n\u001b[0m\u001b[1;32m    185\u001b[0m                 \u001b[0mgenerator_output\u001b[0m \u001b[0;34m=\u001b[0m \u001b[0mnext\u001b[0m\u001b[0;34m(\u001b[0m\u001b[0moutput_generator\u001b[0m\u001b[0;34m)\u001b[0m\u001b[0;34m\u001b[0m\u001b[0m\n\u001b[1;32m    186\u001b[0m \u001b[0;34m\u001b[0m\u001b[0m\n",
      "\u001b[0;31mValueError\u001b[0m: The truth value of an array with more than one element is ambiguous. Use a.any() or a.all()"
     ]
    }
   ],
   "source": [
    "%%time\n",
    "vgg_model.fit_generator(train_files_sample, train_targets_sample,\n",
    "                        epochs = 10,\n",
    "                        callbacks = [model_checkpoint, history],\n",
    "                        verbose=2)"
   ]
  }
 ],
 "metadata": {
  "kernelspec": {
   "display_name": "Python 3",
   "language": "python",
   "name": "python3"
  },
  "language_info": {
   "codemirror_mode": {
    "name": "ipython",
    "version": 3
   },
   "file_extension": ".py",
   "mimetype": "text/x-python",
   "name": "python",
   "nbconvert_exporter": "python",
   "pygments_lexer": "ipython3",
   "version": "3.5.2"
  }
 },
 "nbformat": 4,
 "nbformat_minor": 4
}
